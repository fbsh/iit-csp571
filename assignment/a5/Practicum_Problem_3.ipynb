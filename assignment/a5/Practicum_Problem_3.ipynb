{
 "cells": [
  {
   "cell_type": "markdown",
   "metadata": {},
   "source": [
    "## P3"
   ]
  },
  {
   "cell_type": "code",
   "execution_count": 1,
   "metadata": {},
   "outputs": [],
   "source": [
    "# read white wine dataset\n",
    "whiteurl <- \"http://archive.ics.uci.edu/ml/machine-learning-databases/wine-quality/winequality-white.csv\"\n",
    "whitequality <- read.csv(whiteurl, sep = \";\")\n",
    "whitequality <- whitequality[,1:(length(whitequality)-1)]\n",
    "# scale the variables\n",
    "whitequality <- scale(whitequality)"
   ]
  },
  {
   "cell_type": "markdown",
   "metadata": {},
   "source": [
    "Scale the variables so that each variable has equal contribute to the clustering results."
   ]
  },
  {
   "cell_type": "code",
   "execution_count": 2,
   "metadata": {},
   "outputs": [],
   "source": [
    "# hierarchical cluster with single linkage\n",
    "hc.single <- hclust(dist(whitequality), \"single\")\n",
    "# hierarchical cluster with complete linkage\n",
    "hc.complete <- hclust(dist(whitequality), \"complete\")"
   ]
  },
  {
   "cell_type": "code",
   "execution_count": 3,
   "metadata": {},
   "outputs": [
    {
     "data": {
      "text/html": [
       "14.2532342533317"
      ],
      "text/latex": [
       "14.2532342533317"
      ],
      "text/markdown": [
       "14.2532342533317"
      ],
      "text/plain": [
       "[1] 14.25323"
      ]
     },
     "metadata": {},
     "output_type": "display_data"
    }
   ],
   "source": [
    "# distance when the first cluster merges\n",
    "max(hc.single$height)"
   ]
  },
  {
   "cell_type": "code",
   "execution_count": 4,
   "metadata": {},
   "outputs": [
    {
     "data": {
      "text/html": [
       "27.7347631059574"
      ],
      "text/latex": [
       "27.7347631059574"
      ],
      "text/markdown": [
       "27.7347631059574"
      ],
      "text/plain": [
       "[1] 27.73476"
      ]
     },
     "metadata": {},
     "output_type": "display_data"
    }
   ],
   "source": [
    "# distance when the second cluster merges\n",
    "max(hc.complete$height)"
   ]
  },
  {
   "cell_type": "code",
   "execution_count": 5,
   "metadata": {},
   "outputs": [
    {
     "data": {
      "text/html": [
       "<table class=\"dataframe\">\n",
       "<caption>A data.frame: 6 × 12</caption>\n",
       "<thead>\n",
       "\t<tr><th scope=col>Group.1</th><th scope=col>fixed.acidity</th><th scope=col>volatile.acidity</th><th scope=col>citric.acid</th><th scope=col>residual.sugar</th><th scope=col>chlorides</th><th scope=col>free.sulfur.dioxide</th><th scope=col>total.sulfur.dioxide</th><th scope=col>density</th><th scope=col>pH</th><th scope=col>sulphates</th><th scope=col>alcohol</th></tr>\n",
       "\t<tr><th scope=col>&lt;int&gt;</th><th scope=col>&lt;dbl&gt;</th><th scope=col>&lt;dbl&gt;</th><th scope=col>&lt;dbl&gt;</th><th scope=col>&lt;dbl&gt;</th><th scope=col>&lt;dbl&gt;</th><th scope=col>&lt;dbl&gt;</th><th scope=col>&lt;dbl&gt;</th><th scope=col>&lt;dbl&gt;</th><th scope=col>&lt;dbl&gt;</th><th scope=col>&lt;dbl&gt;</th><th scope=col>&lt;dbl&gt;</th></tr>\n",
       "</thead>\n",
       "<tbody>\n",
       "\t<tr><td>1</td><td>-0.001798493</td><td>-0.001366203</td><td>-0.002751064</td><td>-0.001875402</td><td>-0.002779536</td><td>-0.003202026</td><td>-0.001813943</td><td>-0.00280386</td><td>-0.0007967382</td><td>-0.0009862968</td><td>-0.0004199445</td></tr>\n",
       "\t<tr><td>2</td><td>-0.775935919</td><td> 0.910355596</td><td>-0.282528194</td><td> 0.041124361</td><td>13.741673489</td><td> 2.569034061</td><td> 1.450403524</td><td> 0.45893221</td><td> 0.6737281893</td><td> 0.7899449284</td><td>-0.7429317141</td></tr>\n",
       "\t<tr><td>3</td><td> 0.646087047</td><td>-0.776243557</td><td>10.955301919</td><td>-0.846089506</td><td>-1.088080867</td><td>-0.076913881</td><td>-0.596748527</td><td>-0.79486809</td><td> 0.4750534815</td><td> 0.5270771888</td><td> 1.3698234829</td></tr>\n",
       "\t<tr><td>4</td><td> 8.704217188</td><td>-0.081761553</td><td> 1.287462778</td><td>-1.043248143</td><td>-0.401518165</td><td>-0.135712724</td><td> 0.415062257</td><td>-0.67784673</td><td>-0.2534204470</td><td> 0.4394546089</td><td> 0.4759655149</td></tr>\n",
       "\t<tr><td>5</td><td> 1.120094703</td><td> 6.813452631</td><td> 2.196404919</td><td>11.712915678</td><td> 1.292003165</td><td>-1.605683803</td><td> 0.509184190</td><td>15.02976347</td><td> 1.3359772151</td><td> 1.7537933069</td><td> 0.9635244065</td></tr>\n",
       "\t<tr><td>6</td><td>-0.894437832</td><td>-0.180973268</td><td>-0.695683713</td><td>-0.688362596</td><td> 0.056190303</td><td>14.916791122</td><td> 7.097719526</td><td>-0.29669144</td><td> 1.6671017281</td><td> 1.3156804076</td><td>-0.0115933767</td></tr>\n",
       "</tbody>\n",
       "</table>\n"
      ],
      "text/latex": [
       "A data.frame: 6 × 12\n",
       "\\begin{tabular}{llllllllllll}\n",
       " Group.1 & fixed.acidity & volatile.acidity & citric.acid & residual.sugar & chlorides & free.sulfur.dioxide & total.sulfur.dioxide & density & pH & sulphates & alcohol\\\\\n",
       " <int> & <dbl> & <dbl> & <dbl> & <dbl> & <dbl> & <dbl> & <dbl> & <dbl> & <dbl> & <dbl> & <dbl>\\\\\n",
       "\\hline\n",
       "\t 1 & -0.001798493 & -0.001366203 & -0.002751064 & -0.001875402 & -0.002779536 & -0.003202026 & -0.001813943 & -0.00280386 & -0.0007967382 & -0.0009862968 & -0.0004199445\\\\\n",
       "\t 2 & -0.775935919 &  0.910355596 & -0.282528194 &  0.041124361 & 13.741673489 &  2.569034061 &  1.450403524 &  0.45893221 &  0.6737281893 &  0.7899449284 & -0.7429317141\\\\\n",
       "\t 3 &  0.646087047 & -0.776243557 & 10.955301919 & -0.846089506 & -1.088080867 & -0.076913881 & -0.596748527 & -0.79486809 &  0.4750534815 &  0.5270771888 &  1.3698234829\\\\\n",
       "\t 4 &  8.704217188 & -0.081761553 &  1.287462778 & -1.043248143 & -0.401518165 & -0.135712724 &  0.415062257 & -0.67784673 & -0.2534204470 &  0.4394546089 &  0.4759655149\\\\\n",
       "\t 5 &  1.120094703 &  6.813452631 &  2.196404919 & 11.712915678 &  1.292003165 & -1.605683803 &  0.509184190 & 15.02976347 &  1.3359772151 &  1.7537933069 &  0.9635244065\\\\\n",
       "\t 6 & -0.894437832 & -0.180973268 & -0.695683713 & -0.688362596 &  0.056190303 & 14.916791122 &  7.097719526 & -0.29669144 &  1.6671017281 &  1.3156804076 & -0.0115933767\\\\\n",
       "\\end{tabular}\n"
      ],
      "text/markdown": [
       "\n",
       "A data.frame: 6 × 12\n",
       "\n",
       "| Group.1 &lt;int&gt; | fixed.acidity &lt;dbl&gt; | volatile.acidity &lt;dbl&gt; | citric.acid &lt;dbl&gt; | residual.sugar &lt;dbl&gt; | chlorides &lt;dbl&gt; | free.sulfur.dioxide &lt;dbl&gt; | total.sulfur.dioxide &lt;dbl&gt; | density &lt;dbl&gt; | pH &lt;dbl&gt; | sulphates &lt;dbl&gt; | alcohol &lt;dbl&gt; |\n",
       "|---|---|---|---|---|---|---|---|---|---|---|---|\n",
       "| 1 | -0.001798493 | -0.001366203 | -0.002751064 | -0.001875402 | -0.002779536 | -0.003202026 | -0.001813943 | -0.00280386 | -0.0007967382 | -0.0009862968 | -0.0004199445 |\n",
       "| 2 | -0.775935919 |  0.910355596 | -0.282528194 |  0.041124361 | 13.741673489 |  2.569034061 |  1.450403524 |  0.45893221 |  0.6737281893 |  0.7899449284 | -0.7429317141 |\n",
       "| 3 |  0.646087047 | -0.776243557 | 10.955301919 | -0.846089506 | -1.088080867 | -0.076913881 | -0.596748527 | -0.79486809 |  0.4750534815 |  0.5270771888 |  1.3698234829 |\n",
       "| 4 |  8.704217188 | -0.081761553 |  1.287462778 | -1.043248143 | -0.401518165 | -0.135712724 |  0.415062257 | -0.67784673 | -0.2534204470 |  0.4394546089 |  0.4759655149 |\n",
       "| 5 |  1.120094703 |  6.813452631 |  2.196404919 | 11.712915678 |  1.292003165 | -1.605683803 |  0.509184190 | 15.02976347 |  1.3359772151 |  1.7537933069 |  0.9635244065 |\n",
       "| 6 | -0.894437832 | -0.180973268 | -0.695683713 | -0.688362596 |  0.056190303 | 14.916791122 |  7.097719526 | -0.29669144 |  1.6671017281 |  1.3156804076 | -0.0115933767 |\n",
       "\n"
      ],
      "text/plain": [
       "  Group.1 fixed.acidity volatile.acidity citric.acid  residual.sugar\n",
       "1 1       -0.001798493  -0.001366203     -0.002751064 -0.001875402  \n",
       "2 2       -0.775935919   0.910355596     -0.282528194  0.041124361  \n",
       "3 3        0.646087047  -0.776243557     10.955301919 -0.846089506  \n",
       "4 4        8.704217188  -0.081761553      1.287462778 -1.043248143  \n",
       "5 5        1.120094703   6.813452631      2.196404919 11.712915678  \n",
       "6 6       -0.894437832  -0.180973268     -0.695683713 -0.688362596  \n",
       "  chlorides    free.sulfur.dioxide total.sulfur.dioxide density    \n",
       "1 -0.002779536 -0.003202026        -0.001813943         -0.00280386\n",
       "2 13.741673489  2.569034061         1.450403524          0.45893221\n",
       "3 -1.088080867 -0.076913881        -0.596748527         -0.79486809\n",
       "4 -0.401518165 -0.135712724         0.415062257         -0.67784673\n",
       "5  1.292003165 -1.605683803         0.509184190         15.02976347\n",
       "6  0.056190303 14.916791122         7.097719526         -0.29669144\n",
       "  pH            sulphates     alcohol      \n",
       "1 -0.0007967382 -0.0009862968 -0.0004199445\n",
       "2  0.6737281893  0.7899449284 -0.7429317141\n",
       "3  0.4750534815  0.5270771888  1.3698234829\n",
       "4 -0.2534204470  0.4394546089  0.4759655149\n",
       "5  1.3359772151  1.7537933069  0.9635244065\n",
       "6  1.6671017281  1.3156804076 -0.0115933767"
      ]
     },
     "metadata": {},
     "output_type": "display_data"
    }
   ],
   "source": [
    "# summary statistics for the first cluster method\n",
    "cut.single <- cutree(hc.single, k = 6)\n",
    "aggregate(whitequality,list(cut.single),mean)"
   ]
  },
  {
   "cell_type": "markdown",
   "metadata": {},
   "source": [
    "The standard deviation of the feature \"density\" is largest."
   ]
  },
  {
   "cell_type": "code",
   "execution_count": 6,
   "metadata": {},
   "outputs": [
    {
     "data": {
      "text/html": [
       "<table class=\"dataframe\">\n",
       "<caption>A data.frame: 6 × 12</caption>\n",
       "<thead>\n",
       "\t<tr><th scope=col>Group.1</th><th scope=col>fixed.acidity</th><th scope=col>volatile.acidity</th><th scope=col>citric.acid</th><th scope=col>residual.sugar</th><th scope=col>chlorides</th><th scope=col>free.sulfur.dioxide</th><th scope=col>total.sulfur.dioxide</th><th scope=col>density</th><th scope=col>pH</th><th scope=col>sulphates</th><th scope=col>alcohol</th></tr>\n",
       "\t<tr><th scope=col>&lt;int&gt;</th><th scope=col>&lt;dbl&gt;</th><th scope=col>&lt;dbl&gt;</th><th scope=col>&lt;dbl&gt;</th><th scope=col>&lt;dbl&gt;</th><th scope=col>&lt;dbl&gt;</th><th scope=col>&lt;dbl&gt;</th><th scope=col>&lt;dbl&gt;</th><th scope=col>&lt;dbl&gt;</th><th scope=col>&lt;dbl&gt;</th><th scope=col>&lt;dbl&gt;</th><th scope=col>&lt;dbl&gt;</th></tr>\n",
       "</thead>\n",
       "<tbody>\n",
       "\t<tr><td>1</td><td> 0.4504832</td><td>-0.09148346</td><td> 0.2098385</td><td> 0.8879645</td><td> 0.09067862</td><td> 0.4613299</td><td> 0.5803270</td><td> 0.9580165</td><td>-0.3701504</td><td>-0.01460421</td><td>-0.75092910</td></tr>\n",
       "\t<tr><td>2</td><td>-0.2324327</td><td> 0.03691200</td><td>-0.1513471</td><td>-0.4557699</td><td>-0.17672158</td><td>-0.2534121</td><td>-0.3087830</td><td>-0.5038950</td><td> 0.2050741</td><td> 0.01271805</td><td> 0.40519207</td></tr>\n",
       "\t<tr><td>3</td><td>-0.1044251</td><td> 0.33086899</td><td> 1.4364492</td><td>-0.4414662</td><td> 6.28657345</td><td> 0.4999384</td><td> 0.2389402</td><td> 0.1648590</td><td>-0.7039505</td><td>-0.26285364</td><td>-0.94608125</td></tr>\n",
       "\t<tr><td>4</td><td> 0.9818425</td><td> 0.73673509</td><td> 6.7273438</td><td> 1.4984553</td><td>-0.51594528</td><td> 0.3052786</td><td> 0.8974372</td><td> 0.5425189</td><td>-0.1209706</td><td>-0.36375237</td><td> 1.05832752</td></tr>\n",
       "\t<tr><td>5</td><td> 1.1200947</td><td> 6.81345263</td><td> 2.1964049</td><td>11.7129157</td><td> 1.29200317</td><td>-1.6056838</td><td> 0.5091842</td><td>15.0297635</td><td> 1.3359772</td><td> 1.75379331</td><td> 0.96352441</td></tr>\n",
       "\t<tr><td>6</td><td>-0.8944378</td><td>-0.18097327</td><td>-0.6956837</td><td>-0.6883626</td><td> 0.05619030</td><td>14.9167911</td><td> 7.0977195</td><td>-0.2966914</td><td> 1.6671017</td><td> 1.31568041</td><td>-0.01159338</td></tr>\n",
       "</tbody>\n",
       "</table>\n"
      ],
      "text/latex": [
       "A data.frame: 6 × 12\n",
       "\\begin{tabular}{llllllllllll}\n",
       " Group.1 & fixed.acidity & volatile.acidity & citric.acid & residual.sugar & chlorides & free.sulfur.dioxide & total.sulfur.dioxide & density & pH & sulphates & alcohol\\\\\n",
       " <int> & <dbl> & <dbl> & <dbl> & <dbl> & <dbl> & <dbl> & <dbl> & <dbl> & <dbl> & <dbl> & <dbl>\\\\\n",
       "\\hline\n",
       "\t 1 &  0.4504832 & -0.09148346 &  0.2098385 &  0.8879645 &  0.09067862 &  0.4613299 &  0.5803270 &  0.9580165 & -0.3701504 & -0.01460421 & -0.75092910\\\\\n",
       "\t 2 & -0.2324327 &  0.03691200 & -0.1513471 & -0.4557699 & -0.17672158 & -0.2534121 & -0.3087830 & -0.5038950 &  0.2050741 &  0.01271805 &  0.40519207\\\\\n",
       "\t 3 & -0.1044251 &  0.33086899 &  1.4364492 & -0.4414662 &  6.28657345 &  0.4999384 &  0.2389402 &  0.1648590 & -0.7039505 & -0.26285364 & -0.94608125\\\\\n",
       "\t 4 &  0.9818425 &  0.73673509 &  6.7273438 &  1.4984553 & -0.51594528 &  0.3052786 &  0.8974372 &  0.5425189 & -0.1209706 & -0.36375237 &  1.05832752\\\\\n",
       "\t 5 &  1.1200947 &  6.81345263 &  2.1964049 & 11.7129157 &  1.29200317 & -1.6056838 &  0.5091842 & 15.0297635 &  1.3359772 &  1.75379331 &  0.96352441\\\\\n",
       "\t 6 & -0.8944378 & -0.18097327 & -0.6956837 & -0.6883626 &  0.05619030 & 14.9167911 &  7.0977195 & -0.2966914 &  1.6671017 &  1.31568041 & -0.01159338\\\\\n",
       "\\end{tabular}\n"
      ],
      "text/markdown": [
       "\n",
       "A data.frame: 6 × 12\n",
       "\n",
       "| Group.1 &lt;int&gt; | fixed.acidity &lt;dbl&gt; | volatile.acidity &lt;dbl&gt; | citric.acid &lt;dbl&gt; | residual.sugar &lt;dbl&gt; | chlorides &lt;dbl&gt; | free.sulfur.dioxide &lt;dbl&gt; | total.sulfur.dioxide &lt;dbl&gt; | density &lt;dbl&gt; | pH &lt;dbl&gt; | sulphates &lt;dbl&gt; | alcohol &lt;dbl&gt; |\n",
       "|---|---|---|---|---|---|---|---|---|---|---|---|\n",
       "| 1 |  0.4504832 | -0.09148346 |  0.2098385 |  0.8879645 |  0.09067862 |  0.4613299 |  0.5803270 |  0.9580165 | -0.3701504 | -0.01460421 | -0.75092910 |\n",
       "| 2 | -0.2324327 |  0.03691200 | -0.1513471 | -0.4557699 | -0.17672158 | -0.2534121 | -0.3087830 | -0.5038950 |  0.2050741 |  0.01271805 |  0.40519207 |\n",
       "| 3 | -0.1044251 |  0.33086899 |  1.4364492 | -0.4414662 |  6.28657345 |  0.4999384 |  0.2389402 |  0.1648590 | -0.7039505 | -0.26285364 | -0.94608125 |\n",
       "| 4 |  0.9818425 |  0.73673509 |  6.7273438 |  1.4984553 | -0.51594528 |  0.3052786 |  0.8974372 |  0.5425189 | -0.1209706 | -0.36375237 |  1.05832752 |\n",
       "| 5 |  1.1200947 |  6.81345263 |  2.1964049 | 11.7129157 |  1.29200317 | -1.6056838 |  0.5091842 | 15.0297635 |  1.3359772 |  1.75379331 |  0.96352441 |\n",
       "| 6 | -0.8944378 | -0.18097327 | -0.6956837 | -0.6883626 |  0.05619030 | 14.9167911 |  7.0977195 | -0.2966914 |  1.6671017 |  1.31568041 | -0.01159338 |\n",
       "\n"
      ],
      "text/plain": [
       "  Group.1 fixed.acidity volatile.acidity citric.acid residual.sugar chlorides  \n",
       "1 1        0.4504832    -0.09148346       0.2098385   0.8879645      0.09067862\n",
       "2 2       -0.2324327     0.03691200      -0.1513471  -0.4557699     -0.17672158\n",
       "3 3       -0.1044251     0.33086899       1.4364492  -0.4414662      6.28657345\n",
       "4 4        0.9818425     0.73673509       6.7273438   1.4984553     -0.51594528\n",
       "5 5        1.1200947     6.81345263       2.1964049  11.7129157      1.29200317\n",
       "6 6       -0.8944378    -0.18097327      -0.6956837  -0.6883626      0.05619030\n",
       "  free.sulfur.dioxide total.sulfur.dioxide density    pH         sulphates  \n",
       "1  0.4613299           0.5803270            0.9580165 -0.3701504 -0.01460421\n",
       "2 -0.2534121          -0.3087830           -0.5038950  0.2050741  0.01271805\n",
       "3  0.4999384           0.2389402            0.1648590 -0.7039505 -0.26285364\n",
       "4  0.3052786           0.8974372            0.5425189 -0.1209706 -0.36375237\n",
       "5 -1.6056838           0.5091842           15.0297635  1.3359772  1.75379331\n",
       "6 14.9167911           7.0977195           -0.2966914  1.6671017  1.31568041\n",
       "  alcohol    \n",
       "1 -0.75092910\n",
       "2  0.40519207\n",
       "3 -0.94608125\n",
       "4  1.05832752\n",
       "5  0.96352441\n",
       "6 -0.01159338"
      ]
     },
     "metadata": {},
     "output_type": "display_data"
    }
   ],
   "source": [
    "# summary statistics for the second cluster method\n",
    "cut.complete <- cutree(hc.complete, k = 6)\n",
    "aggregate(whitequality,list(cut.complete), mean)"
   ]
  },
  {
   "cell_type": "markdown",
   "metadata": {},
   "source": [
    "The standard deviation of the feature \"free.sulfur.dioxide\" is largest."
   ]
  },
  {
   "cell_type": "code",
   "execution_count": 7,
   "metadata": {},
   "outputs": [
    {
     "data": {
      "text/plain": [
       "cut.single\n",
       "   1    2    3    4    5    6 \n",
       "4893    1    1    1    1    1 "
      ]
     },
     "metadata": {},
     "output_type": "display_data"
    }
   ],
   "source": [
    "# number of observations in the single method\n",
    "table(cut.single)"
   ]
  },
  {
   "cell_type": "code",
   "execution_count": 8,
   "metadata": {},
   "outputs": [
    {
     "data": {
      "text/plain": [
       "cut.complete\n",
       "   1    2    3    4    5    6 \n",
       "1643 3181   66    6    1    1 "
      ]
     },
     "metadata": {},
     "output_type": "display_data"
    }
   ],
   "source": [
    "# number of observations in the complete method\n",
    "table(cut.complete)"
   ]
  },
  {
   "cell_type": "markdown",
   "metadata": {},
   "source": [
    "The second method using complete linkage returns more balanced results."
   ]
  }
 ],
 "metadata": {
  "kernelspec": {
   "display_name": "R",
   "language": "R",
   "name": "ir"
  },
  "language_info": {
   "codemirror_mode": "r",
   "file_extension": ".r",
   "mimetype": "text/x-r-source",
   "name": "R",
   "pygments_lexer": "r",
   "version": "4.2.1"
  }
 },
 "nbformat": 4,
 "nbformat_minor": 4
}
