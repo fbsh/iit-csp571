{
 "cells": [
  {
   "cell_type": "code",
   "execution_count": 1,
   "metadata": {},
   "outputs": [
    {
     "name": "stderr",
     "output_type": "stream",
     "text": [
      "Loading required package: ggplot2\n",
      "\n",
      "Loading required package: lattice\n",
      "\n",
      "randomForest 4.7-1.1\n",
      "\n",
      "Type rfNews() to see new features/changes/bug fixes.\n",
      "\n",
      "\n",
      "Attaching package: ‘randomForest’\n",
      "\n",
      "\n",
      "The following object is masked from ‘package:ggplot2’:\n",
      "\n",
      "    margin\n",
      "\n",
      "\n"
     ]
    }
   ],
   "source": [
    "library(caret)\n",
    "library(rpart)\n",
    "library(rpart.plot)\n",
    "library(randomForest)"
   ]
  },
  {
   "cell_type": "markdown",
   "metadata": {},
   "source": [
    "## P2"
   ]
  },
  {
   "cell_type": "code",
   "execution_count": 6,
   "metadata": {},
   "outputs": [],
   "source": [
    "# read red wine dataset\n",
    "redurl <- \"http://archive.ics.uci.edu/ml/machine-learning-databases/wine-quality/winequality-red.csv\"\n",
    "redquality <- read.csv(redurl, sep = \";\")\n",
    "redquality$quality <- factor(redquality$quality)\n",
    "\n",
    "# read white wine dataset\n",
    "whiteurl <- \"http://archive.ics.uci.edu/ml/machine-learning-databases/wine-quality/winequality-white.csv\"\n",
    "whitequality <- read.csv(whiteurl, sep = \";\")\n",
    "whitequality$quality <- factor(whitequality$quality)"
   ]
  },
  {
   "cell_type": "code",
   "execution_count": 7,
   "metadata": {},
   "outputs": [],
   "source": [
    "# train test split for red wine\n",
    "trainIdx <- createDataPartition(\n",
    "  1:dim(redquality)[1],\n",
    "  times = 1,\n",
    "  p = 0.8,\n",
    "  list = T)$Resample1\n",
    "redqualityTrain <- redquality[trainIdx,]\n",
    "redqualityTest <- redquality[-trainIdx,]\n",
    "\n",
    "# train test split for white wine\n",
    "trainIdx <- createDataPartition(\n",
    "  1:dim(whitequality)[1],\n",
    "  times = 1,\n",
    "  p = 0.8,\n",
    "  list = T)$Resample1\n",
    "whitequalityTrain <- whitequality[trainIdx,]\n",
    "whitequalityTest <- whitequality[-trainIdx,]"
   ]
  },
  {
   "cell_type": "markdown",
   "metadata": {},
   "source": [
    "##### Predict with Single Tree"
   ]
  },
  {
   "cell_type": "code",
   "execution_count": 8,
   "metadata": {},
   "outputs": [],
   "source": [
    "# fite a decision tree for red wine\n",
    "redfit <- rpart(quality ~ ., data = redqualityTrain)\n",
    "\n",
    "# fit a decision tree for white wine\n",
    "whitefit <- rpart(quality ~ ., data = whitequalityTrain)"
   ]
  },
  {
   "cell_type": "code",
   "execution_count": 9,
   "metadata": {},
   "outputs": [
    {
     "data": {
      "image/png": "[encoded data removed]",
      "text/plain": [
       "plot without title"
      ]
     },
     "metadata": {
      "image/png": {
       "height": 420,
       "width": 420
      }
     },
     "output_type": "display_data"
    }
   ],
   "source": [
    "# visualize the decision tree for red wine\n",
    "rpart.plot(redfit)"
   ]
  },
  {
   "cell_type": "code",
   "execution_count": 10,
   "metadata": {},
   "outputs": [
    {
     "data": {
      "image/png": "[encoded data removed]",
      "text/plain": [
       "plot without title"
      ]
     },
     "metadata": {
      "image/png": {
       "height": 420,
       "width": 420
      }
     },
     "output_type": "display_data"
    }
   ],
   "source": [
    "# visualize the decision tree for white wine\n",
    "rpart.plot(whitefit)"
   ]
  },
  {
   "cell_type": "markdown",
   "metadata": {},
   "source": [
    "Both trees use alcohol and free sulfur dioxide as the decision variables. The red wine selects sulphates, fixed acidity, and total sulfur dioxide as additional decision variables. The white wine selects volatile acidity as additional variables. The decision tree for red wine is deeper and has more nodes than that for the white wine."
   ]
  },
  {
   "cell_type": "code",
   "execution_count": 11,
   "metadata": {},
   "outputs": [
    {
     "data": {
      "text/plain": [
       "Confusion Matrix and Statistics\n",
       "\n",
       "          Reference\n",
       "Prediction  3  4  5  6  7  8\n",
       "         3  0  0  0  0  0  0\n",
       "         4  0  0  0  0  0  0\n",
       "         5  1  3 82 42  3  0\n",
       "         6  0  2 55 79 23  3\n",
       "         7  0  0  0 13 11  2\n",
       "         8  0  0  0  0  0  0\n",
       "\n",
       "Overall Statistics\n",
       "                                          \n",
       "               Accuracy : 0.5392          \n",
       "                 95% CI : (0.4828, 0.5949)\n",
       "    No Information Rate : 0.4295          \n",
       "    P-Value [Acc > NIR] : 5.239e-05       \n",
       "                                          \n",
       "                  Kappa : 0.2331          \n",
       "                                          \n",
       " Mcnemar's Test P-Value : NA              \n",
       "\n",
       "Statistics by Class:\n",
       "\n",
       "                     Class: 3 Class: 4 Class: 5 Class: 6 Class: 7 Class: 8\n",
       "Sensitivity          0.000000  0.00000   0.5985   0.5896  0.29730  0.00000\n",
       "Specificity          1.000000  1.00000   0.7308   0.5514  0.94681  1.00000\n",
       "Pos Pred Value            NaN      NaN   0.6260   0.4877  0.42308      NaN\n",
       "Neg Pred Value       0.996865  0.98433   0.7074   0.6497  0.91126  0.98433\n",
       "Prevalence           0.003135  0.01567   0.4295   0.4201  0.11599  0.01567\n",
       "Detection Rate       0.000000  0.00000   0.2571   0.2476  0.03448  0.00000\n",
       "Detection Prevalence 0.000000  0.00000   0.4107   0.5078  0.08150  0.00000\n",
       "Balanced Accuracy    0.500000  0.50000   0.6647   0.5705  0.62205  0.50000"
      ]
     },
     "metadata": {},
     "output_type": "display_data"
    }
   ],
   "source": [
    "# test prediction on red wine\n",
    "redpred <- predict(redfit, redqualityTest[1:(length(redqualityTest)-1)])\n",
    "redpred <- apply(redpred, 1, which.max) + 2\n",
    "redpred <- factor(redpred, levels = levels(redqualityTest$quality))\n",
    "# confusion matrix\n",
    "confusionMatrix(redpred, redqualityTest$quality)"
   ]
  },
  {
   "cell_type": "code",
   "execution_count": 12,
   "metadata": {},
   "outputs": [
    {
     "data": {
      "text/plain": [
       "Confusion Matrix and Statistics\n",
       "\n",
       "          Reference\n",
       "Prediction   3   4   5   6   7   8   9\n",
       "         3   0   0   0   0   0   0   0\n",
       "         4   0   0   0   0   0   0   0\n",
       "         5   2  13 133  78   7   0   0\n",
       "         6   5  20 153 340 138  28   1\n",
       "         7   0   0   2  20  29   8   1\n",
       "         8   0   0   0   0   0   0   0\n",
       "         9   0   0   0   0   0   0   0\n",
       "\n",
       "Overall Statistics\n",
       "                                         \n",
       "               Accuracy : 0.5133         \n",
       "                 95% CI : (0.4815, 0.545)\n",
       "    No Information Rate : 0.4479         \n",
       "    P-Value [Acc > NIR] : 2.338e-05      \n",
       "                                         \n",
       "                  Kappa : 0.1959         \n",
       "                                         \n",
       " Mcnemar's Test P-Value : NA             \n",
       "\n",
       "Statistics by Class:\n",
       "\n",
       "                     Class: 3 Class: 4 Class: 5 Class: 6 Class: 7 Class: 8\n",
       "Sensitivity          0.000000  0.00000   0.4618   0.7763  0.16667  0.00000\n",
       "Specificity          1.000000  1.00000   0.8551   0.3611  0.96144  1.00000\n",
       "Pos Pred Value            NaN      NaN   0.5708   0.4964  0.48333      NaN\n",
       "Neg Pred Value       0.992843  0.96626   0.7919   0.6655  0.84205  0.96319\n",
       "Prevalence           0.007157  0.03374   0.2945   0.4479  0.17791  0.03681\n",
       "Detection Rate       0.000000  0.00000   0.1360   0.3476  0.02965  0.00000\n",
       "Detection Prevalence 0.000000  0.00000   0.2382   0.7004  0.06135  0.00000\n",
       "Balanced Accuracy    0.500000  0.50000   0.6584   0.5687  0.56405  0.50000\n",
       "                     Class: 9\n",
       "Sensitivity          0.000000\n",
       "Specificity          1.000000\n",
       "Pos Pred Value            NaN\n",
       "Neg Pred Value       0.997955\n",
       "Prevalence           0.002045\n",
       "Detection Rate       0.000000\n",
       "Detection Prevalence 0.000000\n",
       "Balanced Accuracy    0.500000"
      ]
     },
     "metadata": {},
     "output_type": "display_data"
    }
   ],
   "source": [
    "# test prediction on white wine\n",
    "whitepred <- predict(whitefit, whitequalityTest[1:(length(whitequalityTest)-1)])\n",
    "whitepred <- apply(whitepred, 1, which.max) + 2\n",
    "whitepred <- factor(whitepred, levels = levels(whitequalityTest$quality))\n",
    "# confusion matrix\n",
    "confusionMatrix(whitepred, whitequalityTest$quality)"
   ]
  },
  {
   "cell_type": "markdown",
   "metadata": {},
   "source": [
    "##### Predict with Random Forest"
   ]
  },
  {
   "cell_type": "code",
   "execution_count": 17,
   "metadata": {},
   "outputs": [
    {
     "data": {
      "text/plain": [
       "Confusion Matrix and Statistics\n",
       "\n",
       "          Reference\n",
       "Prediction   3   4   5   6   7   8\n",
       "         3   0   0   0   0   0   0\n",
       "         4   0   0   0   1   0   0\n",
       "         5   1   5 115  29   3   0\n",
       "         6   0   0  22  95  11   5\n",
       "         7   0   0   0   9  23   0\n",
       "         8   0   0   0   0   0   0\n",
       "\n",
       "Overall Statistics\n",
       "                                          \n",
       "               Accuracy : 0.7304          \n",
       "                 95% CI : (0.6781, 0.7783)\n",
       "    No Information Rate : 0.4295          \n",
       "    P-Value [Acc > NIR] : < 2.2e-16       \n",
       "                                          \n",
       "                  Kappa : 0.556           \n",
       "                                          \n",
       " Mcnemar's Test P-Value : NA              \n",
       "\n",
       "Statistics by Class:\n",
       "\n",
       "                     Class: 3 Class: 4 Class: 5 Class: 6 Class: 7 Class: 8\n",
       "Sensitivity          0.000000 0.000000   0.8394   0.7090   0.6216  0.00000\n",
       "Specificity          1.000000 0.996815   0.7912   0.7946   0.9681  1.00000\n",
       "Pos Pred Value            NaN 0.000000   0.7516   0.7143   0.7188      NaN\n",
       "Neg Pred Value       0.996865 0.984277   0.8675   0.7903   0.9512  0.98433\n",
       "Prevalence           0.003135 0.015674   0.4295   0.4201   0.1160  0.01567\n",
       "Detection Rate       0.000000 0.000000   0.3605   0.2978   0.0721  0.00000\n",
       "Detection Prevalence 0.000000 0.003135   0.4796   0.4169   0.1003  0.00000\n",
       "Balanced Accuracy    0.500000 0.498408   0.8153   0.7518   0.7949  0.50000"
      ]
     },
     "metadata": {},
     "output_type": "display_data"
    }
   ],
   "source": [
    "# random forest fit on red wine\n",
    "red.rf <- randomForest(quality ~ ., data=redqualityTrain, importance=TRUE, proximity=TRUE)\n",
    "# test prediction on red wine\n",
    "redpred <- predict(red.rf, redqualityTest[1:(length(redqualityTest)-1)])\n",
    "# confusion matrix\n",
    "confusionMatrix(redpred, redqualityTest$quality)"
   ]
  },
  {
   "cell_type": "code",
   "execution_count": 18,
   "metadata": {},
   "outputs": [
    {
     "data": {
      "text/plain": [
       "Confusion Matrix and Statistics\n",
       "\n",
       "          Reference\n",
       "Prediction   3   4   5   6   7   8   9\n",
       "         3   0   0   0   0   0   0   0\n",
       "         4   0   4   2   1   0   0   0\n",
       "         5   4  17 183  60   2   0   0\n",
       "         6   3  12  98 359  69   8   0\n",
       "         7   0   0   5  18 103  12   2\n",
       "         8   0   0   0   0   0  16   0\n",
       "         9   0   0   0   0   0   0   0\n",
       "\n",
       "Overall Statistics\n",
       "                                          \n",
       "               Accuracy : 0.68            \n",
       "                 95% CI : (0.6497, 0.7091)\n",
       "    No Information Rate : 0.4479          \n",
       "    P-Value [Acc > NIR] : < 2.2e-16       \n",
       "                                          \n",
       "                  Kappa : 0.5016          \n",
       "                                          \n",
       " Mcnemar's Test P-Value : NA              \n",
       "\n",
       "Statistics by Class:\n",
       "\n",
       "                     Class: 3 Class: 4 Class: 5 Class: 6 Class: 7 Class: 8\n",
       "Sensitivity          0.000000 0.121212   0.6354   0.8196   0.5920  0.44444\n",
       "Specificity          1.000000 0.996825   0.8797   0.6481   0.9540  1.00000\n",
       "Pos Pred Value            NaN 0.571429   0.6880   0.6539   0.7357  1.00000\n",
       "Neg Pred Value       0.992843 0.970134   0.8525   0.8159   0.9153  0.97921\n",
       "Prevalence           0.007157 0.033742   0.2945   0.4479   0.1779  0.03681\n",
       "Detection Rate       0.000000 0.004090   0.1871   0.3671   0.1053  0.01636\n",
       "Detection Prevalence 0.000000 0.007157   0.2720   0.5613   0.1431  0.01636\n",
       "Balanced Accuracy    0.500000 0.559019   0.7576   0.7339   0.7730  0.72222\n",
       "                     Class: 9\n",
       "Sensitivity          0.000000\n",
       "Specificity          1.000000\n",
       "Pos Pred Value            NaN\n",
       "Neg Pred Value       0.997955\n",
       "Prevalence           0.002045\n",
       "Detection Rate       0.000000\n",
       "Detection Prevalence 0.000000\n",
       "Balanced Accuracy    0.500000"
      ]
     },
     "metadata": {},
     "output_type": "display_data"
    }
   ],
   "source": [
    "# random forest fit on white wine\n",
    "white.rf <- randomForest(quality ~ ., data=whitequalityTrain, importance=TRUE, proximity=TRUE)\n",
    "# test prediction on red wine\n",
    "whitepred <- predict(white.rf, whitequalityTest[1:(length(whitequalityTest)-1)])\n",
    "# confusion matrix\n",
    "confusionMatrix(whitepred, whitequalityTest$quality)"
   ]
  },
  {
   "cell_type": "markdown",
   "metadata": {},
   "source": [
    "The testing accuracy for red and white wine is 0.7304 and 0.68 respectively, higher than that for the single tree."
   ]
  }
 ],
 "metadata": {
  "kernelspec": {
   "display_name": "R",
   "language": "R",
   "name": "ir"
  },
  "language_info": {
   "codemirror_mode": "r",
   "file_extension": ".r",
   "mimetype": "text/x-r-source",
   "name": "R",
   "pygments_lexer": "r",
   "version": "4.2.1"
  }
 },
 "nbformat": 4,
 "nbformat_minor": 4
}
