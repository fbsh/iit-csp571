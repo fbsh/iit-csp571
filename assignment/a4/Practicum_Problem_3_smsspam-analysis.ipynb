{
 "cells": [
  {
   "cell_type": "code",
   "execution_count": 1,
   "metadata": {},
   "outputs": [
    {
     "name": "stderr",
     "output_type": "stream",
     "text": [
      "Loading required package: NLP\n",
      "\n"
     ]
    }
   ],
   "source": [
    "library(e1071)\n",
    "library(tm)"
   ]
  },
  {
   "cell_type": "markdown",
   "metadata": {},
   "source": [
    "## P3"
   ]
  },
  {
   "cell_type": "code",
   "execution_count": 19,
   "metadata": {},
   "outputs": [],
   "source": [
    "smsdata <- read.csv(\"smsspamcollection/SMSSpamCollection\",sep=\"\\t\",header=FALSE,quote=\"\",stringsAsFactors=FALSE)\n",
    "names(smsdata) <- c(\"Class\",\"Message\")"
   ]
  },
  {
   "cell_type": "code",
   "execution_count": 25,
   "metadata": {},
   "outputs": [],
   "source": [
    "smscorpus <- Corpus(VectorSource(as.vector(smsdata$Message)))"
   ]
  },
  {
   "cell_type": "code",
   "execution_count": 28,
   "metadata": {},
   "outputs": [
    {
     "name": "stderr",
     "output_type": "stream",
     "text": [
      "Warning message in tm_map.SimpleCorpus(smscorpus, content_transformer(tolower)):\n",
      "\"transformation drops documents\"\n",
      "Warning message in tm_map.SimpleCorpus(smscorpus, removeWords, stopwords(\"english\")):\n",
      "\"transformation drops documents\"\n",
      "Warning message in tm_map.SimpleCorpus(smscorpus, stripWhitespace):\n",
      "\"transformation drops documents\"\n",
      "Warning message in tm_map.SimpleCorpus(smscorpus, removePunctuation):\n",
      "\"transformation drops documents\"\n"
     ]
    }
   ],
   "source": [
    "# convert to lower case\n",
    "smscorpus <- tm_map(smscorpus, content_transformer(tolower))\n",
    "# remove stopwords\n",
    "smscorpus <- tm_map(smscorpus, removeWords, stopwords(\"english\"))\n",
    "# remove whitespace\n",
    "smscorpus <- tm_map(smscorpus, stripWhitespace)\n",
    "# remove punctuation\n",
    "smscorpus <- tm_map(smscorpus, removePunctuation)"
   ]
  },
  {
   "cell_type": "code",
   "execution_count": 60,
   "metadata": {},
   "outputs": [],
   "source": [
    "# create DocumentTermMatrix\n",
    "smsmat <- DocumentTermMatrix(smscorpus)\n",
    "# find frequent terms\n",
    "smsfreq <- findFreqTerms(smsmat, 10)\n",
    "# # create matrix with the frequent terms\n",
    "smsmat <- smsmat[,smsfreq]\n",
    "# smsmat <- smsmat[,smsfreq]\n",
    "# train test split\n",
    "trainIdx <- createDataPartition(\n",
    "  1:dim(smsmat)[1],\n",
    "  times = 1,\n",
    "  p = 0.8,\n",
    "  list = T)$Resample1\n",
    "smsmatTrain <- smsmat[trainIdx,]\n",
    "smsmatTest <- smsmat[-trainIdx,]\n",
    "classTrain <- smsdata$Class[trainIdx]\n",
    "classTest <- smsdata$Class[-trainIdx]"
   ]
  },
  {
   "cell_type": "code",
   "execution_count": 65,
   "metadata": {},
   "outputs": [],
   "source": [
    "# convert the DocumentTermMatrix train/test matrices to a Boolean representation\n",
    "smsboolTrain <- as.matrix(smsmatTrain)\n",
    "smsboolTrain[smsboolTrain > 0] = 1\n",
    "smsboolTest <- as.matrix(smsmatTest)\n",
    "smsboolTest[smsboolTest > 0] = 1"
   ]
  },
  {
   "cell_type": "code",
   "execution_count": 83,
   "metadata": {},
   "outputs": [],
   "source": [
    "# fit a SVM model\n",
    "smsTrain <- data.frame(smsboolTrain)\n",
    "smsTrain$Class <- as.factor(classTrain)\n",
    "svmfit <- svm(Class~ ., data=smsTrain, kernel = \"linear\", scale = FALSE)"
   ]
  },
  {
   "cell_type": "code",
   "execution_count": 89,
   "metadata": {},
   "outputs": [
    {
     "data": {
      "text/html": [
       "0.995293590318243"
      ],
      "text/latex": [
       "0.995293590318243"
      ],
      "text/markdown": [
       "0.995293590318243"
      ],
      "text/plain": [
       "[1] 0.9952936"
      ]
     },
     "metadata": {},
     "output_type": "display_data"
    }
   ],
   "source": [
    "# training accuracy\n",
    "train.pred <- predict(svmfit, smsTrain[,-length(smsTrain)])\n",
    "sum(train.pred==classTrain)/length(classTrain)"
   ]
  },
  {
   "cell_type": "code",
   "execution_count": 90,
   "metadata": {},
   "outputs": [
    {
     "data": {
      "text/html": [
       "0.98021582733813"
      ],
      "text/latex": [
       "0.98021582733813"
      ],
      "text/markdown": [
       "0.98021582733813"
      ],
      "text/plain": [
       "[1] 0.9802158"
      ]
     },
     "metadata": {},
     "output_type": "display_data"
    }
   ],
   "source": [
    "# test accuracy\n",
    "test.pred <- predict(svmfit, newdata=data.frame(smsboolTest))\n",
    "sum(test.pred==classTest)/length(classTest)"
   ]
  }
 ],
 "metadata": {
  "kernelspec": {
   "display_name": "R",
   "language": "R",
   "name": "ir"
  },
  "language_info": {
   "codemirror_mode": "r",
   "file_extension": ".r",
   "mimetype": "text/x-r-source",
   "name": "R",
   "pygments_lexer": "r",
   "version": "4.2.1"
  }
 },
 "nbformat": 4,
 "nbformat_minor": 4
}
