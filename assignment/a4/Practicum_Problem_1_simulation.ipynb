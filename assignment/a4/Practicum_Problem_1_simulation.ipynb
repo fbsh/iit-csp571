{
 "cells": [
  {
   "cell_type": "code",
   "execution_count": 1,
   "metadata": {},
   "outputs": [],
   "source": [
    "library(rpart)\n",
    "library(rpart.plot)"
   ]
  },
  {
   "cell_type": "markdown",
   "metadata": {},
   "source": [
    "## P1"
   ]
  },
  {
   "cell_type": "markdown",
   "metadata": {},
   "source": [
    "#### Distribution with (5,2) and (-5,2)"
   ]
  },
  {
   "cell_type": "code",
   "execution_count": 30,
   "metadata": {},
   "outputs": [],
   "source": [
    "feat1 <- rnorm(1000, 5, 2)\n",
    "feat2 <- rnorm(1000, -5, 2)\n",
    "label <- c(rep('Y', 500), rep('N', 500))\n",
    "bin.data <- data.frame(feat1 = feat1, feat2 = feat2, class=label)"
   ]
  },
  {
   "cell_type": "code",
   "execution_count": 43,
   "metadata": {},
   "outputs": [
    {
     "data": {
      "image/png": "[encoded data removed]",
      "text/plain": [
       "plot without title"
      ]
     },
     "metadata": {
      "image/png": {
       "height": 420,
       "width": 420
      }
     },
     "output_type": "display_data"
    }
   ],
   "source": [
    "fit <- rpart(label ~ feat1 + feat2, data = bin.data)\n",
    "plot(fit)\n",
    "text(fit, use.n = TRUE)"
   ]
  },
  {
   "cell_type": "markdown",
   "metadata": {},
   "source": [
    "The threshold value for the feature in the first split is given by 9.441."
   ]
  },
  {
   "cell_type": "code",
   "execution_count": 50,
   "metadata": {},
   "outputs": [
    {
     "data": {
      "text/html": [
       "<table class=\"dataframe\">\n",
       "<caption>A data.frame: 11 × 5</caption>\n",
       "<thead>\n",
       "\t<tr><th></th><th scope=col>var</th><th scope=col>n</th><th scope=col>dev</th><th scope=col>gini</th><th scope=col>entropy</th></tr>\n",
       "\t<tr><th></th><th scope=col>&lt;chr&gt;</th><th scope=col>&lt;int&gt;</th><th scope=col>&lt;dbl&gt;</th><th scope=col>&lt;dbl&gt;</th><th scope=col>&lt;dbl&gt;</th></tr>\n",
       "</thead>\n",
       "<tbody>\n",
       "\t<tr><th scope=row>1</th><td>feat1</td><td>1000</td><td>500</td><td>0.5000000</td><td>1.0000000</td></tr>\n",
       "\t<tr><th scope=row>2</th><td>feat1</td><td> 985</td><td>488</td><td>0.4999583</td><td>0.9999398</td></tr>\n",
       "\t<tr><th scope=row>5</th><td>feat2</td><td> 956</td><td>475</td><td>0.4999803</td><td>0.9999716</td></tr>\n",
       "\t<tr><th scope=row>10</th><td>feat2</td><td> 719</td><td>346</td><td>0.4992949</td><td>0.9989825</td></tr>\n",
       "\t<tr><th scope=row>21</th><td>feat1</td><td> 694</td><td>340</td><td>0.4997965</td><td>0.9997064</td></tr>\n",
       "\t<tr><th scope=row>42</th><td>feat2</td><td> 561</td><td>262</td><td>0.4978251</td><td>0.9968599</td></tr>\n",
       "\t<tr><th scope=row>85</th><td>feat1</td><td> 267</td><td>128</td><td>0.4991513</td><td>0.9987753</td></tr>\n",
       "\t<tr><th scope=row>171</th><td>feat1</td><td> 221</td><td> 99</td><td>0.4945845</td><td>0.9921729</td></tr>\n",
       "\t<tr><th scope=row>342</th><td>feat1</td><td>  74</td><td> 34</td><td>0.4967129</td><td>0.9952525</td></tr>\n",
       "\t<tr><th scope=row>43</th><td>feat2</td><td> 133</td><td> 55</td><td>0.4850472</td><td>0.9783188</td></tr>\n",
       "\t<tr><th scope=row>11</th><td>feat1</td><td> 237</td><td>102</td><td>0.4903060</td><td>0.9859690</td></tr>\n",
       "</tbody>\n",
       "</table>\n"
      ],
      "text/latex": [
       "A data.frame: 11 × 5\n",
       "\\begin{tabular}{r|lllll}\n",
       "  & var & n & dev & gini & entropy\\\\\n",
       "  & <chr> & <int> & <dbl> & <dbl> & <dbl>\\\\\n",
       "\\hline\n",
       "\t1 & feat1 & 1000 & 500 & 0.5000000 & 1.0000000\\\\\n",
       "\t2 & feat1 &  985 & 488 & 0.4999583 & 0.9999398\\\\\n",
       "\t5 & feat2 &  956 & 475 & 0.4999803 & 0.9999716\\\\\n",
       "\t10 & feat2 &  719 & 346 & 0.4992949 & 0.9989825\\\\\n",
       "\t21 & feat1 &  694 & 340 & 0.4997965 & 0.9997064\\\\\n",
       "\t42 & feat2 &  561 & 262 & 0.4978251 & 0.9968599\\\\\n",
       "\t85 & feat1 &  267 & 128 & 0.4991513 & 0.9987753\\\\\n",
       "\t171 & feat1 &  221 &  99 & 0.4945845 & 0.9921729\\\\\n",
       "\t342 & feat1 &   74 &  34 & 0.4967129 & 0.9952525\\\\\n",
       "\t43 & feat2 &  133 &  55 & 0.4850472 & 0.9783188\\\\\n",
       "\t11 & feat1 &  237 & 102 & 0.4903060 & 0.9859690\\\\\n",
       "\\end{tabular}\n"
      ],
      "text/markdown": [
       "\n",
       "A data.frame: 11 × 5\n",
       "\n",
       "| <!--/--> | var &lt;chr&gt; | n &lt;int&gt; | dev &lt;dbl&gt; | gini &lt;dbl&gt; | entropy &lt;dbl&gt; |\n",
       "|---|---|---|---|---|---|\n",
       "| 1 | feat1 | 1000 | 500 | 0.5000000 | 1.0000000 |\n",
       "| 2 | feat1 |  985 | 488 | 0.4999583 | 0.9999398 |\n",
       "| 5 | feat2 |  956 | 475 | 0.4999803 | 0.9999716 |\n",
       "| 10 | feat2 |  719 | 346 | 0.4992949 | 0.9989825 |\n",
       "| 21 | feat1 |  694 | 340 | 0.4997965 | 0.9997064 |\n",
       "| 42 | feat2 |  561 | 262 | 0.4978251 | 0.9968599 |\n",
       "| 85 | feat1 |  267 | 128 | 0.4991513 | 0.9987753 |\n",
       "| 171 | feat1 |  221 |  99 | 0.4945845 | 0.9921729 |\n",
       "| 342 | feat1 |   74 |  34 | 0.4967129 | 0.9952525 |\n",
       "| 43 | feat2 |  133 |  55 | 0.4850472 | 0.9783188 |\n",
       "| 11 | feat1 |  237 | 102 | 0.4903060 | 0.9859690 |\n",
       "\n"
      ],
      "text/plain": [
       "    var   n    dev gini      entropy  \n",
       "1   feat1 1000 500 0.5000000 1.0000000\n",
       "2   feat1  985 488 0.4999583 0.9999398\n",
       "5   feat2  956 475 0.4999803 0.9999716\n",
       "10  feat2  719 346 0.4992949 0.9989825\n",
       "21  feat1  694 340 0.4997965 0.9997064\n",
       "42  feat2  561 262 0.4978251 0.9968599\n",
       "85  feat1  267 128 0.4991513 0.9987753\n",
       "171 feat1  221  99 0.4945845 0.9921729\n",
       "342 feat1   74  34 0.4967129 0.9952525\n",
       "43  feat2  133  55 0.4850472 0.9783188\n",
       "11  feat1  237 102 0.4903060 0.9859690"
      ]
     },
     "metadata": {},
     "output_type": "display_data"
    }
   ],
   "source": [
    "frame <- fit$frame\n",
    "# compute gini index for each node\n",
    "frame[['gini']] <- 1 - (frame[['dev']] / frame[['n']])^2 - (1 - frame[['dev']] / frame[['n']])^2\n",
    "# compute gini entropy for each node\n",
    "frame[['entropy']] <- - (frame[['dev']] / frame[['n']]) * log2(frame[['dev']] / frame[['n']]) - (1 - frame[['dev']] / frame[['n']]) * log2(1 - frame[['dev']] / frame[['n']])\n",
    "frame[frame$var != '<leaf>',][,c('var','n','dev','gini','entropy')]"
   ]
  },
  {
   "cell_type": "markdown",
   "metadata": {},
   "source": [
    "There are 11 nodes in total. The gini index for each node is around 0.5, and the entropy is close to 1."
   ]
  },
  {
   "cell_type": "markdown",
   "metadata": {},
   "source": [
    "#### Distribution with (1,2) and (-1,2)"
   ]
  },
  {
   "cell_type": "code",
   "execution_count": 51,
   "metadata": {},
   "outputs": [],
   "source": [
    "feat1 <- rnorm(1000, 1, 2)\n",
    "feat2 <- rnorm(1000, -1, 2)\n",
    "label <- c(rep('Y', 500), rep('N', 500))\n",
    "bin.data <- data.frame(feat1 = feat1, feat2 = feat2, class=label)"
   ]
  },
  {
   "cell_type": "code",
   "execution_count": 53,
   "metadata": {},
   "outputs": [
    {
     "data": {
      "text/html": [
       "<table class=\"dataframe\">\n",
       "<caption>A data.frame: 7 × 5</caption>\n",
       "<thead>\n",
       "\t<tr><th></th><th scope=col>var</th><th scope=col>n</th><th scope=col>dev</th><th scope=col>gini</th><th scope=col>entropy</th></tr>\n",
       "\t<tr><th></th><th scope=col>&lt;chr&gt;</th><th scope=col>&lt;int&gt;</th><th scope=col>&lt;dbl&gt;</th><th scope=col>&lt;dbl&gt;</th><th scope=col>&lt;dbl&gt;</th></tr>\n",
       "</thead>\n",
       "<tbody>\n",
       "\t<tr><th scope=row>1</th><td>feat1</td><td>1000</td><td>500</td><td>0.5000000</td><td>1.0000000</td></tr>\n",
       "\t<tr><th scope=row>2</th><td>feat1</td><td> 992</td><td>492</td><td>0.4999675</td><td>0.9999531</td></tr>\n",
       "\t<tr><th scope=row>5</th><td>feat1</td><td> 967</td><td>482</td><td>0.4999952</td><td>0.9999931</td></tr>\n",
       "\t<tr><th scope=row>11</th><td>feat1</td><td> 956</td><td>473</td><td>0.4999453</td><td>0.9999211</td></tr>\n",
       "\t<tr><th scope=row>22</th><td>feat1</td><td> 940</td><td>469</td><td>0.4999977</td><td>0.9999967</td></tr>\n",
       "\t<tr><th scope=row>44</th><td>feat2</td><td> 750</td><td>364</td><td>0.4995698</td><td>0.9993792</td></tr>\n",
       "\t<tr><th scope=row>88</th><td>feat2</td><td> 588</td><td>274</td><td>0.4976861</td><td>0.9966592</td></tr>\n",
       "</tbody>\n",
       "</table>\n"
      ],
      "text/latex": [
       "A data.frame: 7 × 5\n",
       "\\begin{tabular}{r|lllll}\n",
       "  & var & n & dev & gini & entropy\\\\\n",
       "  & <chr> & <int> & <dbl> & <dbl> & <dbl>\\\\\n",
       "\\hline\n",
       "\t1 & feat1 & 1000 & 500 & 0.5000000 & 1.0000000\\\\\n",
       "\t2 & feat1 &  992 & 492 & 0.4999675 & 0.9999531\\\\\n",
       "\t5 & feat1 &  967 & 482 & 0.4999952 & 0.9999931\\\\\n",
       "\t11 & feat1 &  956 & 473 & 0.4999453 & 0.9999211\\\\\n",
       "\t22 & feat1 &  940 & 469 & 0.4999977 & 0.9999967\\\\\n",
       "\t44 & feat2 &  750 & 364 & 0.4995698 & 0.9993792\\\\\n",
       "\t88 & feat2 &  588 & 274 & 0.4976861 & 0.9966592\\\\\n",
       "\\end{tabular}\n"
      ],
      "text/markdown": [
       "\n",
       "A data.frame: 7 × 5\n",
       "\n",
       "| <!--/--> | var &lt;chr&gt; | n &lt;int&gt; | dev &lt;dbl&gt; | gini &lt;dbl&gt; | entropy &lt;dbl&gt; |\n",
       "|---|---|---|---|---|---|\n",
       "| 1 | feat1 | 1000 | 500 | 0.5000000 | 1.0000000 |\n",
       "| 2 | feat1 |  992 | 492 | 0.4999675 | 0.9999531 |\n",
       "| 5 | feat1 |  967 | 482 | 0.4999952 | 0.9999931 |\n",
       "| 11 | feat1 |  956 | 473 | 0.4999453 | 0.9999211 |\n",
       "| 22 | feat1 |  940 | 469 | 0.4999977 | 0.9999967 |\n",
       "| 44 | feat2 |  750 | 364 | 0.4995698 | 0.9993792 |\n",
       "| 88 | feat2 |  588 | 274 | 0.4976861 | 0.9966592 |\n",
       "\n"
      ],
      "text/plain": [
       "   var   n    dev gini      entropy  \n",
       "1  feat1 1000 500 0.5000000 1.0000000\n",
       "2  feat1  992 492 0.4999675 0.9999531\n",
       "5  feat1  967 482 0.4999952 0.9999931\n",
       "11 feat1  956 473 0.4999453 0.9999211\n",
       "22 feat1  940 469 0.4999977 0.9999967\n",
       "44 feat2  750 364 0.4995698 0.9993792\n",
       "88 feat2  588 274 0.4976861 0.9966592"
      ]
     },
     "metadata": {},
     "output_type": "display_data"
    }
   ],
   "source": [
    "fit <- rpart(label ~ feat1 + feat2, data = bin.data)\n",
    "frame <- fit$frame\n",
    "# compute gini index for each node\n",
    "frame[['gini']] <- 1 - (frame[['dev']] / frame[['n']])^2 - (1 - frame[['dev']] / frame[['n']])^2\n",
    "# compute gini entropy for each node\n",
    "frame[['entropy']] <- - (frame[['dev']] / frame[['n']]) * log2(frame[['dev']] / frame[['n']]) - (1 - frame[['dev']] / frame[['n']]) * log2(1 - frame[['dev']] / frame[['n']])\n",
    "frame[frame$var != '<leaf>',][,c('var','n','dev','gini','entropy')]"
   ]
  },
  {
   "cell_type": "markdown",
   "metadata": {},
   "source": [
    "There are 7 nodes of the tree. The nodes are less given that the mean of the distribution is closer to 0."
   ]
  },
  {
   "cell_type": "code",
   "execution_count": 61,
   "metadata": {},
   "outputs": [
    {
     "name": "stdout",
     "output_type": "stream",
     "text": [
      "Call:\n",
      "rpart(formula = label ~ feat1 + feat2, data = bin.data, cp = 0.1)\n",
      "  n= 1000 \n",
      "\n",
      "     CP nsplit rel error xerror xstd\n",
      "1 0.016      0         1      0    0\n",
      "\n",
      "Node number 1: 1000 observations\n",
      "  predicted class=N  expected loss=0.5  P(node) =1\n",
      "    class counts:   500   500\n",
      "   probabilities: 0.500 0.500 \n",
      "\n"
     ]
    }
   ],
   "source": [
    "prune.fit <- rpart(label ~ feat1 + feat2, data = bin.data, cp=0.1)\n",
    "summary(prune.fit)"
   ]
  },
  {
   "cell_type": "markdown",
   "metadata": {},
   "source": [
    "The pruned tree only has one node without any split."
   ]
  },
  {
   "cell_type": "code",
   "execution_count": null,
   "metadata": {},
   "outputs": [],
   "source": []
  }
 ],
 "metadata": {
  "kernelspec": {
   "display_name": "R",
   "language": "R",
   "name": "ir"
  },
  "language_info": {
   "codemirror_mode": "r",
   "file_extension": ".r",
   "mimetype": "text/x-r-source",
   "name": "R",
   "pygments_lexer": "r",
   "version": "4.2.1"
  }
 },
 "nbformat": 4,
 "nbformat_minor": 4
}
