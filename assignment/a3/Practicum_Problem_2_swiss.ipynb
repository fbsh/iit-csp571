{
 "cells": [
  {
   "cell_type": "code",
   "execution_count": 7,
   "metadata": {},
   "outputs": [
    {
     "name": "stderr",
     "output_type": "stream",
     "text": [
      "Loading required package: Matrix\n",
      "\n",
      "Loaded glmnet 4.1-4\n",
      "\n"
     ]
    }
   ],
   "source": [
    "library(caret)\n",
    "library(glmnet)"
   ]
  },
  {
   "cell_type": "markdown",
   "metadata": {
    "tags": []
   },
   "source": [
    "## P2"
   ]
  },
  {
   "cell_type": "code",
   "execution_count": 1,
   "metadata": {},
   "outputs": [],
   "source": [
    "data(swiss)"
   ]
  },
  {
   "cell_type": "code",
   "execution_count": 4,
   "metadata": {},
   "outputs": [],
   "source": [
    "# train test split\n",
    "trainIdx <- createDataPartition(\n",
    "  1:dim(swiss)[1],\n",
    "  times = 1,\n",
    "  p = 0.8,\n",
    "  list = T)$Resample1\n",
    "swissTrain <- swiss[trainIdx,]\n",
    "swissTest <- swiss[-trainIdx,]"
   ]
  },
  {
   "cell_type": "code",
   "execution_count": 5,
   "metadata": {},
   "outputs": [],
   "source": [
    "# train test split\n",
    "trainIdx <- createDataPartition(\n",
    "  1:dim(swiss)[1],\n",
    "  times = 1,\n",
    "  p = 0.8,\n",
    "  list = T)$Resample1\n",
    "swissTrain <- swiss[trainIdx,]\n",
    "swissTest <- swiss[-trainIdx,]"
   ]
  },
  {
   "cell_type": "code",
   "execution_count": 6,
   "metadata": {},
   "outputs": [
    {
     "data": {
      "text/plain": [
       "\n",
       "Call:\n",
       "lm(formula = Fertility ~ ., data = swissTrain)\n",
       "\n",
       "Residuals:\n",
       "     Min       1Q   Median       3Q      Max \n",
       "-15.0089  -4.8490   0.5656   3.7818  14.5389 \n",
       "\n",
       "Coefficients:\n",
       "                 Estimate Std. Error t value Pr(>|t|)    \n",
       "(Intercept)      66.43790   11.28209   5.889 1.34e-06 ***\n",
       "Agriculture      -0.17216    0.07833  -2.198 0.035080 *  \n",
       "Examination      -0.25521    0.26282  -0.971 0.338592    \n",
       "Education        -0.79532    0.20154  -3.946 0.000392 ***\n",
       "Catholic          0.12008    0.03617   3.320 0.002205 ** \n",
       "Infant.Mortality  1.04274    0.39908   2.613 0.013415 *  \n",
       "---\n",
       "Signif. codes:  0 ‘***’ 0.001 ‘**’ 0.01 ‘*’ 0.05 ‘.’ 0.1 ‘ ’ 1\n",
       "\n",
       "Residual standard error: 7.041 on 33 degrees of freedom\n",
       "Multiple R-squared:  0.7202,\tAdjusted R-squared:  0.6778 \n",
       "F-statistic: 16.99 on 5 and 33 DF,  p-value: 2.657e-08\n"
      ]
     },
     "metadata": {},
     "output_type": "display_data"
    }
   ],
   "source": [
    "# fit a linear model\n",
    "lm.fit <- lm(Fertility~., data=swissTrain)\n",
    "summary(lm.fit)"
   ]
  },
  {
   "cell_type": "code",
   "execution_count": 300,
   "metadata": {},
   "outputs": [
    {
     "data": {
      "text/plain": [
       "\n",
       "Call:\n",
       "lm(formula = Fertility ~ ., data = swissTrain)\n",
       "\n",
       "Residuals:\n",
       "     Min       1Q   Median       3Q      Max \n",
       "-16.7529  -4.3903  -0.7223   4.9603  14.5294 \n",
       "\n",
       "Coefficients:\n",
       "                 Estimate Std. Error t value Pr(>|t|)    \n",
       "(Intercept)      72.55388   12.11198   5.990 9.93e-07 ***\n",
       "Agriculture      -0.17278    0.07863  -2.197  0.03512 *  \n",
       "Examination      -0.46583    0.28483  -1.635  0.11145    \n",
       "Education        -0.70487    0.21940  -3.213  0.00293 ** \n",
       "Catholic          0.08497    0.04002   2.123  0.04135 *  \n",
       "Infant.Mortality  0.90768    0.43018   2.110  0.04252 *  \n",
       "---\n",
       "Signif. codes:  0 '***' 0.001 '**' 0.01 '*' 0.05 '.' 0.1 ' ' 1\n",
       "\n",
       "Residual standard error: 7.374 on 33 degrees of freedom\n",
       "Multiple R-squared:  0.6827,\tAdjusted R-squared:  0.6346 \n",
       "F-statistic:  14.2 on 5 and 33 DF,  p-value: 1.963e-07\n"
      ]
     },
     "metadata": {},
     "output_type": "display_data"
    }
   ],
   "source": [
    "# fit a linear model\n",
    "lm.fit <- lm(Fertility~., data=swissTrain)\n",
    "summary(lm.fit)"
   ]
  },
  {
   "cell_type": "markdown",
   "metadata": {},
   "source": [
    "Agriculture, Education, Catholic, and Infant.Mortality are significant at 10% level and selected as relevant variables, and their coefficients are -0.1727, -0.70487, 0.08497 and 0.90768."
   ]
  },
  {
   "cell_type": "markdown",
   "metadata": {},
   "source": [
    "#####  Lasso Regression"
   ]
  },
  {
   "cell_type": "code",
   "execution_count": 323,
   "metadata": {},
   "outputs": [],
   "source": [
    "# cross validated lasso regression\n",
    "lambda.vec <- seq(from = 0.01, to = 1, by = 0.01)\n",
    "lasso.fit <- cv.glmnet(x = as.matrix(swissTrain[,2:length(swissTrain)]), y =  swissTrain$Fertility, \n",
    "                       alpha = 1, lambda = lambda.vec, parallel=TRUE)"
   ]
  },
  {
   "cell_type": "code",
   "execution_count": 324,
   "metadata": {},
   "outputs": [
    {
     "data": {
      "text/html": [
       "0.38"
      ],
      "text/latex": [
       "0.38"
      ],
      "text/markdown": [
       "0.38"
      ],
      "text/plain": [
       "[1] 0.38"
      ]
     },
     "metadata": {},
     "output_type": "display_data"
    }
   ],
   "source": [
    "# determine the minimum value of lambda\n",
    "best.lambda <- lasso.fit$lambda.min\n",
    "best.lambda"
   ]
  },
  {
   "cell_type": "code",
   "execution_count": 325,
   "metadata": {},
   "outputs": [
    {
     "name": "stderr",
     "output_type": "stream",
     "text": [
      "Your code contains a unicode char which cannot be displayed in your\n",
      "current locale and R will silently convert it to an escaped form when the\n",
      "R kernel executes this code. This can lead to subtle errors if you use\n",
      "such chars to do comparisons. For more information, please see\n",
      "https://github.com/IRkernel/repr/wiki/Problems-with-unicode-on-windows"
     ]
    },
    {
     "data": {
      "image/png": "[encoded data removed]",
      "text/plain": [
       "plot without title"
      ]
     },
     "metadata": {
      "image/png": {
       "height": 420,
       "width": 420
      }
     },
     "output_type": "display_data"
    }
   ],
   "source": [
    "# training 𝑀𝑆𝐸 vs lambda\n",
    "plot(lasso.fit$lambda, lasso.fit$cvm)"
   ]
  },
  {
   "cell_type": "markdown",
   "metadata": {},
   "source": [
    "##### Coefficient"
   ]
  },
  {
   "cell_type": "code",
   "execution_count": 326,
   "metadata": {},
   "outputs": [
    {
     "data": {
      "text/plain": [
       "6 x 1 sparse Matrix of class \"dgCMatrix\"\n",
       "                          s1\n",
       "(Intercept)      68.46070522\n",
       "Agriculture      -0.10566736\n",
       "Examination      -0.43906013\n",
       "Education        -0.58656228\n",
       "Catholic          0.06900618\n",
       "Infant.Mortality  0.89219241"
      ]
     },
     "metadata": {},
     "output_type": "display_data"
    }
   ],
   "source": [
    "# coefficient\n",
    "coef(lasso.fit, s = best.lambda)"
   ]
  },
  {
   "cell_type": "markdown",
   "metadata": {},
   "source": [
    "The coefficients for the lasso regression have smaller magnitude than that given by orignal regression. It performed both variable selection and shrinkage."
   ]
  },
  {
   "cell_type": "markdown",
   "metadata": {},
   "source": [
    "##### Out-of-sample test set performance"
   ]
  },
  {
   "cell_type": "code",
   "execution_count": 327,
   "metadata": {},
   "outputs": [
    {
     "data": {
      "text/html": [
       "7.42582061348167"
      ],
      "text/latex": [
       "7.42582061348167"
      ],
      "text/markdown": [
       "7.42582061348167"
      ],
      "text/plain": [
       "[1] 7.425821"
      ]
     },
     "metadata": {},
     "output_type": "display_data"
    }
   ],
   "source": [
    "# out-of sample rmse\n",
    "lasso.pred <- predict(lasso.fit, as.matrix(swissTest[,2:length(swissTest)]), s=best.lambda)\n",
    "cal.rmse(c(lasso.pred), swissTest$Fertility)"
   ]
  }
 ],
 "metadata": {
  "kernelspec": {
   "display_name": "R",
   "language": "R",
   "name": "ir"
  },
  "language_info": {
   "codemirror_mode": "r",
   "file_extension": ".r",
   "mimetype": "text/x-r-source",
   "name": "R",
   "pygments_lexer": "r",
   "version": "4.2.1"
  }
 },
 "nbformat": 4,
 "nbformat_minor": 4
}
