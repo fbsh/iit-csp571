{
 "cells": [
  {
   "cell_type": "code",
   "execution_count": 1,
   "metadata": {},
   "outputs": [
    {
     "name": "stderr",
     "output_type": "stream",
     "text": [
      "Loading required package: ggplot2\n",
      "\n",
      "Loading required package: lattice\n",
      "\n",
      "Loading required package: Matrix\n",
      "\n",
      "Loaded glmnet 4.1-4\n",
      "\n"
     ]
    }
   ],
   "source": [
    "library(caret)\n",
    "library(glmnet)"
   ]
  },
  {
   "cell_type": "markdown",
   "metadata": {},
   "source": [
    "## P1"
   ]
  },
  {
   "cell_type": "code",
   "execution_count": 222,
   "metadata": {},
   "outputs": [],
   "source": [
    "data(mtcars)"
   ]
  },
  {
   "cell_type": "code",
   "execution_count": 228,
   "metadata": {},
   "outputs": [],
   "source": [
    "# train test split\n",
    "trainIdx <- createDataPartition(\n",
    "  1:dim(mtcars)[1],\n",
    "  times = 1,\n",
    "  p = 0.8,\n",
    "  list = T)$Resample1\n",
    "mtcarsTrain <- mtcars[trainIdx,]\n",
    "mtcarsTest <- mtcars[-trainIdx,]"
   ]
  },
  {
   "cell_type": "code",
   "execution_count": 230,
   "metadata": {},
   "outputs": [
    {
     "data": {
      "text/plain": [
       "\n",
       "Call:\n",
       "lm(formula = mpg ~ ., data = mtcarsTrain)\n",
       "\n",
       "Residuals:\n",
       "    Min      1Q  Median      3Q     Max \n",
       "-4.6391 -1.4391 -0.5401  1.3231  4.0205 \n",
       "\n",
       "Coefficients:\n",
       "             Estimate Std. Error t value Pr(>|t|)\n",
       "(Intercept) 25.897542  20.560103   1.260    0.225\n",
       "cyl         -1.230327   1.228177  -1.002    0.331\n",
       "disp         0.014680   0.021866   0.671    0.511\n",
       "hp          -0.008249   0.025210  -0.327    0.747\n",
       "drat         0.794535   1.675798   0.474    0.641\n",
       "wt          -3.793978   2.265910  -1.674    0.112\n",
       "qsec         0.592801   0.761424   0.779    0.447\n",
       "vs           0.502684   2.269571   0.221    0.827\n",
       "am           2.453146   2.221504   1.104    0.285\n",
       "gear        -0.620836   1.673476  -0.371    0.715\n",
       "carb        -0.116887   0.922282  -0.127    0.901\n",
       "\n",
       "Residual standard error: 2.645 on 17 degrees of freedom\n",
       "Multiple R-squared:  0.8926,\tAdjusted R-squared:  0.8294 \n",
       "F-statistic: 14.12 on 10 and 17 DF,  p-value: 2.324e-06\n"
      ]
     },
     "metadata": {},
     "output_type": "display_data"
    }
   ],
   "source": [
    "# fit a linear model\n",
    "lm.fit <- lm(mpg~., data=mtcarsTrain)\n",
    "summary(lm.fit)"
   ]
  },
  {
   "cell_type": "markdown",
   "metadata": {},
   "source": [
    "We can select the variables with $|t|>1$. We can see that cyl, wt, and am are relavant, and their coefficient are given by $1.23$, $-3.79$, and $2.45$ respectively."
   ]
  },
  {
   "cell_type": "code",
   "execution_count": 287,
   "metadata": {},
   "outputs": [
    {
     "name": "stderr",
     "output_type": "stream",
     "text": [
      "Warning message:\n",
      "\"Option grouped=FALSE enforced in cv.glmnet, since < 3 observations per fold\"\n"
     ]
    }
   ],
   "source": [
    "# cross-validation ridge regression\n",
    "lambda.vec <- seq(from = 0.01, to = 5, by = 0.05)\n",
    "ridge.fit <- cv.glmnet(x = as.matrix(mtcarsTrain[,2:length(mtcarsTrain)]), y =  mtcarsTrain$mpg, \n",
    "                       alpha = 0, lambda = lambda.vec, parallel=TRUE)"
   ]
  },
  {
   "cell_type": "code",
   "execution_count": 289,
   "metadata": {},
   "outputs": [
    {
     "data": {
      "text/html": [
       "2.86"
      ],
      "text/latex": [
       "2.86"
      ],
      "text/markdown": [
       "2.86"
      ],
      "text/plain": [
       "[1] 2.86"
      ]
     },
     "metadata": {},
     "output_type": "display_data"
    }
   ],
   "source": [
    "# determine the minimum value of lambda\n",
    "best.lambda <- ridge.fit$lambda.min\n",
    "best.lambda"
   ]
  },
  {
   "cell_type": "code",
   "execution_count": 290,
   "metadata": {},
   "outputs": [
    {
     "name": "stderr",
     "output_type": "stream",
     "text": [
      "Your code contains a unicode char which cannot be displayed in your\n",
      "current locale and R will silently convert it to an escaped form when the\n",
      "R kernel executes this code. This can lead to subtle errors if you use\n",
      "such chars to do comparisons. For more information, please see\n",
      "https://github.com/IRkernel/repr/wiki/Problems-with-unicode-on-windows"
     ]
    },
    {
     "data": {
      "image/png": "[encoded data removed]",
      "text/plain": [
       "plot without title"
      ]
     },
     "metadata": {
      "image/png": {
       "height": 420,
       "width": 420
      }
     },
     "output_type": "display_data"
    }
   ],
   "source": [
    "# training 𝑀𝑆𝐸 vs lambda\n",
    "plot(ridge.fit$lambda, ridge.fit$cvm)"
   ]
  },
  {
   "cell_type": "markdown",
   "metadata": {},
   "source": [
    "##### Comparison"
   ]
  },
  {
   "cell_type": "code",
   "execution_count": 296,
   "metadata": {},
   "outputs": [
    {
     "data": {
      "text/html": [
       "2.70714398373507"
      ],
      "text/latex": [
       "2.70714398373507"
      ],
      "text/markdown": [
       "2.70714398373507"
      ],
      "text/plain": [
       "[1] 2.707144"
      ]
     },
     "metadata": {},
     "output_type": "display_data"
    }
   ],
   "source": [
    "# out-of sample rmse\n",
    "ridge.pred <- predict(ridge.fit, as.matrix(mtcarsTest[,2:length(mtcarsTest)]), s=best.lambda)\n",
    "cal.rmse(c(ridge.pred), mtcarsTest$mpg)"
   ]
  },
  {
   "cell_type": "code",
   "execution_count": 291,
   "metadata": {},
   "outputs": [
    {
     "data": {
      "text/plain": [
       "11 x 1 sparse Matrix of class \"dgCMatrix\"\n",
       "                      s1\n",
       "(Intercept) 21.977621227\n",
       "cyl         -0.498060199\n",
       "disp        -0.005472346\n",
       "hp          -0.009877710\n",
       "drat         1.190116551\n",
       "wt          -1.199674725\n",
       "qsec         0.157991896\n",
       "vs           0.990896010\n",
       "am           1.813711971\n",
       "gear         0.360541677\n",
       "carb        -0.585599418"
      ]
     },
     "metadata": {},
     "output_type": "display_data"
    }
   ],
   "source": [
    "# coefficients for ridge regression\n",
    "coef(ridge.fit, s=best.lambda)"
   ]
  },
  {
   "cell_type": "markdown",
   "metadata": {},
   "source": [
    "We can observe that the coefficient for ridge regression is smaller than that in the original model, but the absolute value are all larger than 0.It basically performs ridge shrinkage for the coefficients."
   ]
  },
  {
   "cell_type": "code",
   "execution_count": null,
   "metadata": {},
   "outputs": [],
   "source": []
  }
 ],
 "metadata": {
  "kernelspec": {
   "display_name": "R",
   "language": "R",
   "name": "ir"
  },
  "language_info": {
   "codemirror_mode": "r",
   "file_extension": ".r",
   "mimetype": "text/x-r-source",
   "name": "R",
   "pygments_lexer": "r",
   "version": "4.2.1"
  }
 },
 "nbformat": 4,
 "nbformat_minor": 4
}
