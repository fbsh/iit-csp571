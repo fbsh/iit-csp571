{
 "cells": [
  {
   "cell_type": "markdown",
   "id": "75ebb164-9689-45af-a68d-bc5643d72862",
   "metadata": {},
   "source": [
    "# 4"
   ]
  },
  {
   "cell_type": "markdown",
   "id": "aee94697-fbe6-469d-82bb-19d6c5f89b2f",
   "metadata": {},
   "source": [
    "## a"
   ]
  },
  {
   "cell_type": "markdown",
   "id": "8b1eb424-6976-4759-8a94-5f23ff1a664a",
   "metadata": {},
   "source": [
    "Let $L(x)$ be the length of the interval used for prediction associated with a test observation $X=x$. Then, since $X$ is assumed to be uniformly distributed on $[0,1]$, the average length of the interval used for prediction is the average of $L(x)$ on $[0,1]$. From calculus, the average value of an integrable function $f(x)$ on the interval $[a, b]$ is given by\n",
    "$$\n",
    "\\frac{1}{b-a} \\int_{a}^{b} f(x) d x\n",
    "$$\n",
    "Thus, the average length of the interval used for prediction is\n",
    "$$\n",
    "\\frac{1}{1-0} \\int_{0}^{1} L(x) d x=\\int_{0}^{0.05} x+0.05 d x+\\int_{0.05}^{0.95} 0.1 d x+\\int_{0.95}^{1} 1.05-x d x=.0975\n",
    "$$"
   ]
  },
  {
   "cell_type": "markdown",
   "id": "fefd682a-9283-4ab6-a2f5-8aca71ff5cb4",
   "metadata": {},
   "source": [
    "## b"
   ]
  },
  {
   "cell_type": "markdown",
   "id": "43757de9-46a3-41fa-8c0a-f0bcc89e9a8a",
   "metadata": {},
   "source": [
    "If we assume $X_{1}$ and $X_{2}$ to be independant, the fraction of available observations we will use to make the prediction is $9.75 \\% \\times 9.75 \\%=0.950625 \\%$."
   ]
  },
  {
   "cell_type": "markdown",
   "id": "962a0622-739f-4aec-a1b5-506838f7f519",
   "metadata": {},
   "source": [
    "## c"
   ]
  },
  {
   "cell_type": "markdown",
   "id": "1f58731f-be98-461d-8293-fa07f92a8018",
   "metadata": {},
   "source": [
    "With the same argument than (a) and (b), we may conclude that the fraction of available observations we will use to make the prediction is $9.75 \\% 100 \\simeq 0 \\%$."
   ]
  },
  {
   "cell_type": "markdown",
   "id": "d2af3a5e-ed66-4700-8979-69656fd5f3bd",
   "metadata": {},
   "source": [
    "## d"
   ]
  },
  {
   "cell_type": "markdown",
   "id": "36d2d0ed-4c62-47b4-b6ef-c687ddfc4de6",
   "metadata": {},
   "source": [
    "As we saw in (a)-(c), the fraction of available observations we will use to make the prediction is $(9.75 \\%)^{p}$ with $p$ the number of features. So when $p \\rightarrow \\infty$, we have\n",
    "$$\n",
    "\\lim _{p \\rightarrow \\infty}(9.75 \\%)^{p}=0 .\n",
    "$$"
   ]
  },
  {
   "cell_type": "markdown",
   "id": "c193950f-a8fd-4c29-8e94-019b7834cc75",
   "metadata": {},
   "source": [
    "## e"
   ]
  },
  {
   "cell_type": "markdown",
   "id": "09f6486e-bf14-404b-b8e1-2bff3a013ddf",
   "metadata": {},
   "source": [
    "For $p=1$, we have $l=0.1$, for $p=2$, we have $l=0.1^{1 / 2}$ and for $p=100$, we have $l=0.1^{1 / 100}$."
   ]
  },
  {
   "cell_type": "markdown",
   "id": "27350a04-f69a-45fc-b91c-be5049ae2c67",
   "metadata": {},
   "source": [
    "# 6"
   ]
  },
  {
   "cell_type": "markdown",
   "id": "7ff1ad8f-79a8-49df-a892-ccada80204af",
   "metadata": {},
   "source": [
    "## a"
   ]
  },
  {
   "cell_type": "markdown",
   "id": "12a1d574-ca27-4340-8a5b-27536d0484c4",
   "metadata": {},
   "source": [
    "It suffices to plug in the beta values in the equation for predicted probability,\n",
    "$$\n",
    "\\hat{p}(X)=\\frac{e^{-6+0.05 X_{1}+X_{2}}}{\\left(1+e^{-6+0.05 X_{1}+X_{2}}\\right)}=0.3775 .\n",
    "$$"
   ]
  },
  {
   "cell_type": "markdown",
   "id": "92336fac-6d1b-47e7-a8f4-b4f6a80902f3",
   "metadata": {},
   "source": [
    "## b"
   ]
  },
  {
   "cell_type": "markdown",
   "id": "e94d10cc-3bf0-462e-9ef6-57a36fec86ff",
   "metadata": {},
   "source": [
    "The equation for predicted probability tells us that\n",
    "$$\n",
    "\\frac{e^{-6+0.05 X_{1}+3.5}}{\\left(1+e^{-6+0.05 X_{1}+3.5}\\right)}=0.5\n",
    "$$\n",
    "which is equivalent to\n",
    "$$\n",
    "e^{-6+0.05 X_{1}+3.5}=1\n",
    "$$\n",
    "By taking the logarithm of both sides, we get\n",
    "$$\n",
    "X_{1}=\\frac{2.5}{0.05}=50\n",
    "$$"
   ]
  },
  {
   "cell_type": "markdown",
   "id": "4f8b3d02-7bc3-418e-82e6-ca51c3bae0ca",
   "metadata": {
    "tags": []
   },
   "source": [
    "# 7"
   ]
  },
  {
   "cell_type": "markdown",
   "id": "c39b0f6a-3112-4ae7-acaf-b83636ea973e",
   "metadata": {},
   "source": [
    "It suffices to plug in the parameters and $X$ values in the equation for $p_{k}(x)$. We get\n",
    "$$\n",
    "p_{1}(4)=\\frac{0.8 e^{-(1 / 72)(4-10)^{2}}}{0.8 e^{-(1 / 72)(4-10)^{2}}+0.2 e^{-(1 / 72)(4-0)^{2}}}=0.752\n",
    "$$\n",
    "so the probability that a company will issue a dividend this year given that its percentage return was $X=4$ last year is $0.752$."
   ]
  },
  {
   "cell_type": "markdown",
   "id": "f3383506-b14a-447f-a34d-47d57067c877",
   "metadata": {},
   "source": [
    "# 9"
   ]
  },
  {
   "cell_type": "markdown",
   "id": "0b75b54a-f15f-4257-a396-b736afab57de",
   "metadata": {},
   "source": [
    "## a"
   ]
  },
  {
   "cell_type": "markdown",
   "id": "eb310045-6d76-4991-98e7-5a9422a7c15e",
   "metadata": {},
   "source": [
    "We may write\n",
    "$$\n",
    "\\frac{p(X)}{1-p(X)}=0.37\n",
    "$$\n",
    "which we may transform into\n",
    "$$\n",
    "p(X)=\\frac{0.37}{1+0.37}=0.27\n",
    "$$\n",
    "So, we have on average a fraction of $27 \\%$ of people defaulting on their credit card payment."
   ]
  },
  {
   "cell_type": "markdown",
   "id": "e42f00d9-dd5d-4760-b426-68c4ea5df783",
   "metadata": {},
   "source": [
    "## b"
   ]
  },
  {
   "cell_type": "markdown",
   "id": "572771fd-cd16-4270-be8d-ab4a1d9ab1cb",
   "metadata": {},
   "source": [
    "We have $p(X)=0.16$ which implies that\n",
    "$$\n",
    "\\frac{p(X)}{1-p(X)}=\\frac{0.16}{1-0.16}=0.19\n",
    "$$\n",
    "The odds that she will default is then $19 \\%$."
   ]
  },
  {
   "cell_type": "code",
   "execution_count": null,
   "id": "1ab15f46-d8ae-421c-acf1-6706f990f411",
   "metadata": {},
   "outputs": [],
   "source": []
  }
 ],
 "metadata": {
  "kernelspec": {
   "display_name": "R",
   "language": "R",
   "name": "ir"
  },
  "language_info": {
   "codemirror_mode": "r",
   "file_extension": ".r",
   "mimetype": "text/x-r-source",
   "name": "R",
   "pygments_lexer": "r",
   "version": "4.2.1"
  }
 },
 "nbformat": 4,
 "nbformat_minor": 5
}
