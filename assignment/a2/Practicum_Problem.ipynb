{
 "cells": [
  {
   "cell_type": "code",
   "execution_count": 3,
   "metadata": {},
   "outputs": [
    {
     "name": "stderr",
     "output_type": "stream",
     "text": [
      "Loading required package: ggplot2\n",
      "\n",
      "Loading required package: lattice\n",
      "\n",
      "Loading required package: Matrix\n",
      "\n",
      "Loaded glmnet 4.1-4\n",
      "\n"
     ]
    }
   ],
   "source": [
    "library(caret)\n",
    "library(glmnet)"
   ]
  },
  {
   "cell_type": "markdown",
   "metadata": {},
   "source": [
    "## P1 "
   ]
  },
  {
   "cell_type": "code",
   "execution_count": 2,
   "metadata": {},
   "outputs": [],
   "source": [
    "# read ablone data\n",
    "aburl = 'http://archive.ics.uci.edu/ml/machine-learning-databases/abalone/abalone.data'\n",
    "abnames = c('sex','length','diameter','height','weight.w','weight.s','weight.v','weight.sh','rings')\n",
    "abalone = read.table(aburl, header = F , sep = ',', col.names = abnames)"
   ]
  },
  {
   "cell_type": "code",
   "execution_count": 3,
   "metadata": {},
   "outputs": [],
   "source": [
    "# Remove all observations in the Infant category\n",
    "abalone <-  abalone[abalone$sex != 'I',]\n",
    "abalone$sex <- factor(abalone$sex)"
   ]
  },
  {
   "cell_type": "code",
   "execution_count": 4,
   "metadata": {},
   "outputs": [],
   "source": [
    "# train test split\n",
    "trainIdx <- createDataPartition(\n",
    "  1:dim(abalone)[1],\n",
    "  times = 1,\n",
    "  p = 0.8,\n",
    "  list = T)$Resample1\n",
    "abaloneTrain <- abalone[trainIdx,]\n",
    "abaloneTest <- abalone[-trainIdx,]"
   ]
  },
  {
   "cell_type": "code",
   "execution_count": 9,
   "metadata": {},
   "outputs": [
    {
     "data": {
      "text/plain": [
       "\n",
       "Call:\n",
       "glm(formula = sex ~ ., family = binomial(link = \"logit\"), data = abaloneTrain)\n",
       "\n",
       "Deviance Residuals: \n",
       "    Min       1Q   Median       3Q      Max  \n",
       "-1.7864  -1.1976   0.8887   1.1257   1.4265  \n",
       "\n",
       "Coefficients:\n",
       "             Estimate Std. Error z value Pr(>|z|)    \n",
       "(Intercept)  2.720708   0.509778   5.337 9.45e-08 ***\n",
       "length      -2.338788   2.258816  -1.035  0.30048    \n",
       "diameter    -4.090233   2.694733  -1.518  0.12905    \n",
       "height      -3.009431   2.053818  -1.465  0.14284    \n",
       "weight.w     0.221657   0.825728   0.268  0.78836    \n",
       "weight.s     2.718506   0.988080   2.751  0.00594 ** \n",
       "weight.v    -1.621990   1.447007  -1.121  0.26232    \n",
       "weight.sh    0.209366   1.262684   0.166  0.86831    \n",
       "rings       -0.006724   0.017779  -0.378  0.70528    \n",
       "---\n",
       "Signif. codes:  0 '***' 0.001 '**' 0.01 '*' 0.05 '.' 0.1 ' ' 1\n",
       "\n",
       "(Dispersion parameter for binomial family taken to be 1)\n",
       "\n",
       "    Null deviance: 3137.7  on 2270  degrees of freedom\n",
       "Residual deviance: 3087.4  on 2262  degrees of freedom\n",
       "AIC: 3105.4\n",
       "\n",
       "Number of Fisher Scoring iterations: 4\n"
      ]
     },
     "metadata": {},
     "output_type": "display_data"
    }
   ],
   "source": [
    "# fit glm model\n",
    "fit <- glm(sex~., data=abaloneTrain, family=binomial(link = \"logit\"))\n",
    "summary(fit)"
   ]
  },
  {
   "cell_type": "markdown",
   "metadata": {},
   "source": [
    "It can be observed that eight.s is significant at 5% level."
   ]
  },
  {
   "cell_type": "code",
   "execution_count": 10,
   "metadata": {},
   "outputs": [
    {
     "name": "stderr",
     "output_type": "stream",
     "text": [
      "Waiting for profiling to be done...\n",
      "\n"
     ]
    },
    {
     "data": {
      "text/html": [
       "<table class=\"dataframe\">\n",
       "<caption>A matrix: 9 × 2 of type dbl</caption>\n",
       "<thead>\n",
       "\t<tr><th></th><th scope=col>2.5 %</th><th scope=col>97.5 %</th></tr>\n",
       "</thead>\n",
       "<tbody>\n",
       "\t<tr><th scope=row>(Intercept)</th><td> 1.73507330</td><td>3.73483051</td></tr>\n",
       "\t<tr><th scope=row>length</th><td>-6.77106478</td><td>2.08964938</td></tr>\n",
       "\t<tr><th scope=row>diameter</th><td>-9.38723140</td><td>1.18471867</td></tr>\n",
       "\t<tr><th scope=row>height</th><td>-7.57426554</td><td>0.42408753</td></tr>\n",
       "\t<tr><th scope=row>weight.w</th><td>-1.40030367</td><td>1.84868615</td></tr>\n",
       "\t<tr><th scope=row>weight.s</th><td> 0.78611689</td><td>4.66758156</td></tr>\n",
       "\t<tr><th scope=row>weight.v</th><td>-4.46673049</td><td>1.21235667</td></tr>\n",
       "\t<tr><th scope=row>weight.sh</th><td>-2.27399441</td><td>2.68809205</td></tr>\n",
       "\t<tr><th scope=row>rings</th><td>-0.04160944</td><td>0.02813387</td></tr>\n",
       "</tbody>\n",
       "</table>\n"
      ],
      "text/latex": [
       "A matrix: 9 × 2 of type dbl\n",
       "\\begin{tabular}{r|ll}\n",
       "  & 2.5 \\% & 97.5 \\%\\\\\n",
       "\\hline\n",
       "\t(Intercept) &  1.73507330 & 3.73483051\\\\\n",
       "\tlength & -6.77106478 & 2.08964938\\\\\n",
       "\tdiameter & -9.38723140 & 1.18471867\\\\\n",
       "\theight & -7.57426554 & 0.42408753\\\\\n",
       "\tweight.w & -1.40030367 & 1.84868615\\\\\n",
       "\tweight.s &  0.78611689 & 4.66758156\\\\\n",
       "\tweight.v & -4.46673049 & 1.21235667\\\\\n",
       "\tweight.sh & -2.27399441 & 2.68809205\\\\\n",
       "\trings & -0.04160944 & 0.02813387\\\\\n",
       "\\end{tabular}\n"
      ],
      "text/markdown": [
       "\n",
       "A matrix: 9 × 2 of type dbl\n",
       "\n",
       "| <!--/--> | 2.5 % | 97.5 % |\n",
       "|---|---|---|\n",
       "| (Intercept) |  1.73507330 | 3.73483051 |\n",
       "| length | -6.77106478 | 2.08964938 |\n",
       "| diameter | -9.38723140 | 1.18471867 |\n",
       "| height | -7.57426554 | 0.42408753 |\n",
       "| weight.w | -1.40030367 | 1.84868615 |\n",
       "| weight.s |  0.78611689 | 4.66758156 |\n",
       "| weight.v | -4.46673049 | 1.21235667 |\n",
       "| weight.sh | -2.27399441 | 2.68809205 |\n",
       "| rings | -0.04160944 | 0.02813387 |\n",
       "\n"
      ],
      "text/plain": [
       "            2.5 %       97.5 %    \n",
       "(Intercept)  1.73507330 3.73483051\n",
       "length      -6.77106478 2.08964938\n",
       "diameter    -9.38723140 1.18471867\n",
       "height      -7.57426554 0.42408753\n",
       "weight.w    -1.40030367 1.84868615\n",
       "weight.s     0.78611689 4.66758156\n",
       "weight.v    -4.46673049 1.21235667\n",
       "weight.sh   -2.27399441 2.68809205\n",
       "rings       -0.04160944 0.02813387"
      ]
     },
     "metadata": {},
     "output_type": "display_data"
    }
   ],
   "source": [
    "confint(fit)"
   ]
  },
  {
   "cell_type": "markdown",
   "metadata": {},
   "source": [
    "Except weight.w, all the predictors contain 0 within the 95% range. It suggests that we can't reject the null hypothesis at 5% level."
   ]
  },
  {
   "cell_type": "code",
   "execution_count": 11,
   "metadata": {},
   "outputs": [
    {
     "data": {
      "text/plain": [
       "Confusion Matrix and Statistics\n",
       "\n",
       "          Reference\n",
       "Prediction   F   M\n",
       "         F 106  83\n",
       "         M 143 232\n",
       "                                        \n",
       "               Accuracy : 0.5993        \n",
       "                 95% CI : (0.5575, 0.64)\n",
       "    No Information Rate : 0.5585        \n",
       "    P-Value [Acc > NIR] : 0.02787       \n",
       "                                        \n",
       "                  Kappa : 0.1664        \n",
       "                                        \n",
       " Mcnemar's Test P-Value : 8.687e-05     \n",
       "                                        \n",
       "            Sensitivity : 0.4257        \n",
       "            Specificity : 0.7365        \n",
       "         Pos Pred Value : 0.5608        \n",
       "         Neg Pred Value : 0.6187        \n",
       "             Prevalence : 0.4415        \n",
       "         Detection Rate : 0.1879        \n",
       "   Detection Prevalence : 0.3351        \n",
       "      Balanced Accuracy : 0.5811        \n",
       "                                        \n",
       "       'Positive' Class : F             \n",
       "                                        "
      ]
     },
     "metadata": {},
     "output_type": "display_data"
    }
   ],
   "source": [
    "# predict for test data\n",
    "test.pred <- predict(fit, abaloneTest[,2:length(abaloneTest)], type=\"response\")\n",
    "test.pred[test.pred>0.5] = 'M'\n",
    "test.pred[test.pred != 'M'] = 'F'\n",
    "# confusion matrix\n",
    "confusionMatrix(factor(test.pred), abaloneTest$sex)"
   ]
  },
  {
   "cell_type": "markdown",
   "metadata": {},
   "source": [
    "The accuracy is given by 0.5993, only slightly higher than 0.5 given by a random classifier ROC curve."
   ]
  },
  {
   "cell_type": "code",
   "execution_count": 14,
   "metadata": {},
   "outputs": [
    {
     "data": {
      "image/png": "[encoded data removed]",
      "text/plain": [
       "Plot with title \"\""
      ]
     },
     "metadata": {
      "image/png": {
       "height": 420,
       "width": 420
      }
     },
     "output_type": "display_data"
    }
   ],
   "source": [
    "# correlation matrix between predictors\n",
    "aba.corr <- cor(abaloneTrain[,2:length(abaloneTrain)])\n",
    "corrplot(aba.corr)"
   ]
  },
  {
   "cell_type": "markdown",
   "metadata": {},
   "source": [
    "There are a lot of pairs of predictors strongly correlated with each other (corr>0.8). The multicollinearity problem makes each predictor less related to the response variables, and thus render the low accuracy on the test data."
   ]
  },
  {
   "cell_type": "markdown",
   "metadata": {},
   "source": [
    "## P2 "
   ]
  },
  {
   "cell_type": "code",
   "execution_count": 17,
   "metadata": {},
   "outputs": [],
   "source": [
    "# read mushroom data\n",
    "mrurl = 'https://archive.ics.uci.edu/ml/machine-learning-databases/mushroom/agaricus-lepiota.data'\n",
    "mrnames = c(\"poiede\",\"cap_shape\",\"cap_surface\",\"cap_color\",\"bruises\",\"odor\",\"gill_attachment\",\n",
    "            \"gill_spacing\",\"gill_size\",\"gill_color\",\"stalk_shape\",\"stalk_root\",\"stalk_surface_above_ring\",\n",
    "            \"stalk_surface_below_ring\",\"stalk_color_above_ring\",\"stalk_color_below_ring\",\"veil_type\",\n",
    "            \"veil_color\",\"ring_number\",\"ring_type\",\"spore_print_color\",\"population\",\"habitat\")\n",
    "mushroom = read.table(mrurl, header = F , sep = ',', col.names = mrnames)"
   ]
  },
  {
   "cell_type": "code",
   "execution_count": 21,
   "metadata": {},
   "outputs": [],
   "source": [
    "# train test split\n",
    "trainIdx <- sample(1:dim(mushroom)[1], size=as.integer(dim(mushroom)[1]*0.8), replace = FALSE)\n",
    "mushroomTrain <- mushroom[trainIdx,]\n",
    "mushroomTest <- mushroom[-trainIdx,]"
   ]
  },
  {
   "cell_type": "code",
   "execution_count": 30,
   "metadata": {},
   "outputs": [],
   "source": [
    "# create a Naive Bayes classifier\n",
    "nb.fit <- naiveBayes(poiede ~ ., data = mushroomTrain)"
   ]
  },
  {
   "cell_type": "markdown",
   "metadata": {},
   "source": [
    "##### Calculate accuracy for both in-training and in-test"
   ]
  },
  {
   "cell_type": "code",
   "execution_count": 32,
   "metadata": {},
   "outputs": [
    {
     "data": {
      "text/html": [
       "0.94276042468072"
      ],
      "text/latex": [
       "0.94276042468072"
      ],
      "text/markdown": [
       "0.94276042468072"
      ],
      "text/plain": [
       "[1] 0.9427604"
      ]
     },
     "metadata": {},
     "output_type": "display_data"
    }
   ],
   "source": [
    "# accuracy for in-training\n",
    "train.pred <- predict(nb.fit, mushroomTrain[,2:length(mushroomTrain)])\n",
    "sum(train.pred == mushroomTrain$poiede)/dim(mushroomTrain)[1]"
   ]
  },
  {
   "cell_type": "code",
   "execution_count": 33,
   "metadata": {},
   "outputs": [
    {
     "data": {
      "text/html": [
       "0.934153846153846"
      ],
      "text/latex": [
       "0.934153846153846"
      ],
      "text/markdown": [
       "0.934153846153846"
      ],
      "text/plain": [
       "[1] 0.9341538"
      ]
     },
     "metadata": {},
     "output_type": "display_data"
    }
   ],
   "source": [
    "# accuracy for in-test\n",
    "test.pred <- predict(nb.fit, mushroomTest[,2:length(mushroomTest)])\n",
    "sum(test.pred == mushroomTest$poiede)/dim(mushroomTest)[1]"
   ]
  },
  {
   "cell_type": "code",
   "execution_count": 36,
   "metadata": {},
   "outputs": [
    {
     "data": {
      "text/plain": [
       "         \n",
       "test.pred   e   p\n",
       "        e 859 100\n",
       "        p   7 659"
      ]
     },
     "metadata": {},
     "output_type": "display_data"
    }
   ],
   "source": [
    "# confusion matrix for in-test\n",
    "table(test.pred, mushroomTest$poiede)"
   ]
  },
  {
   "cell_type": "markdown",
   "metadata": {},
   "source": [
    "We assume edible to be the positive class. The model produces 100 false positives in the testing data."
   ]
  },
  {
   "cell_type": "markdown",
   "metadata": {},
   "source": [
    "## P3 "
   ]
  },
  {
   "cell_type": "code",
   "execution_count": 115,
   "metadata": {},
   "outputs": [],
   "source": [
    "# load Yacht Hydrodynamics sample dataset\n",
    "yhurl = 'https://archive.ics.uci.edu/ml/machine-learning-databases/00243/yacht_hydrodynamics.data'\n",
    "yhnames = c('Longitudinal Position', 'Prismatic Coeefficient','Length-Displacement', 'Beam-Draught Ratio',\n",
    "             'Length-Beam Ratio', 'Froude Number','Residuary Resistance')\n",
    "yacht = read.table(yhurl, header = F , sep = '', col.names = yhnames)"
   ]
  },
  {
   "cell_type": "code",
   "execution_count": 116,
   "metadata": {},
   "outputs": [],
   "source": [
    "# train test split\n",
    "trainIdx <- createDataPartition(\n",
    "  1:dim(yacht)[1],\n",
    "  times = 1,\n",
    "  p = 0.8,\n",
    "  list = T)$Resample1\n",
    "yachtTrain <- yacht[trainIdx,]\n",
    "yachtTest <- yacht[-trainIdx,]"
   ]
  },
  {
   "cell_type": "markdown",
   "metadata": {},
   "source": [
    "##### Fit with single sample"
   ]
  },
  {
   "cell_type": "code",
   "execution_count": 117,
   "metadata": {},
   "outputs": [
    {
     "name": "stdout",
     "output_type": "stream",
     "text": [
      "[1] \"Train RMSE: 8.79472613923226\"\n",
      "[1] \"Train R2: 0.653271194807307\"\n"
     ]
    }
   ],
   "source": [
    "# fit linear model\n",
    "lm.fit <- lm(Residuary.Resistance~., data=yachtTrain)\n",
    "# define function to compute RMSE and R2\n",
    "cal.rmse <- function(pred, actual){\n",
    "    # function to compute RMSE\n",
    "    return(sqrt(mean((pred - actual)^2)))\n",
    "}\n",
    "\n",
    "cal.r2 <- function(pred, actual){\n",
    "    # function to compute r2\n",
    "    rss <- sum((pred - actual) ^ 2)\n",
    "    tss <- sum((actual - mean(actual)) ^ 2)\n",
    "    rsq <- 1 - rss/tss\n",
    "    return (rsq)\n",
    "}\n",
    "\n",
    "# training accuracy\n",
    "train.pred <- predict(lm.fit, data=yachtTrain[,1:(length(yachtTrain)-1)])\n",
    "train.RMSE <- cal.rmse(train.pred, yachtTrain$Residuary.Resistance)\n",
    "train.R2 <- cal.r2(train.pred, yachtTrain$Residuary.Resistance)\n",
    "print(paste('Train RMSE:', as.character(train.RMSE)))\n",
    "print(paste('Train R2:', as.character(train.R2)))"
   ]
  },
  {
   "cell_type": "markdown",
   "metadata": {},
   "source": [
    "##### Bootstrap Fitting"
   ]
  },
  {
   "cell_type": "code",
   "execution_count": 118,
   "metadata": {},
   "outputs": [],
   "source": [
    "# bootstrap training\n",
    "# Define training control\n",
    "train.control <- trainControl(method = \"boot\", number = 1000)\n",
    "# Train the model\n",
    "boot.fit <- train(Residuary.Resistance~., data = yachtTrain, method = \"lm\",\n",
    "               trControl = train.control)"
   ]
  },
  {
   "cell_type": "code",
   "execution_count": 119,
   "metadata": {},
   "outputs": [
    {
     "data": {
      "image/png": "[encoded data removed]",
      "text/plain": [
       "Plot with title \"Histogram of boot.fit$resample$RMSE\""
      ]
     },
     "metadata": {
      "image/png": {
       "height": 420,
       "width": 420
      }
     },
     "output_type": "display_data"
    }
   ],
   "source": [
    "# histogram of RMSE\n",
    "hist(boot.fit$resample$RMSE)"
   ]
  },
  {
   "cell_type": "code",
   "execution_count": 120,
   "metadata": {},
   "outputs": [
    {
     "name": "stdout",
     "output_type": "stream",
     "text": [
      "[1] \"Bootstrap Train RMSE: 9.17666409282626\"\n",
      "[1] \"Bootstrap Train R2: 0.631603720028309\"\n"
     ]
    }
   ],
   "source": [
    "# mean of RMSE and R2\n",
    "RMSE.boot <- mean(boot.fit$resample$RMSE)\n",
    "R2.boot <- mean(boot.fit$resample$Rsquared)\n",
    "print(paste('Bootstrap Train RMSE:', as.character(RMSE.boot)))\n",
    "print(paste('Bootstrap Train R2:', as.character(R2.boot)))"
   ]
  },
  {
   "cell_type": "markdown",
   "metadata": {},
   "source": [
    "The bootstrap RMSE is slightly higher than that in the original model, and the bootstrap R2 is slightly lower."
   ]
  },
  {
   "cell_type": "markdown",
   "metadata": {},
   "source": [
    "##### Comparison on test set"
   ]
  },
  {
   "cell_type": "code",
   "execution_count": 122,
   "metadata": {},
   "outputs": [
    {
     "name": "stdout",
     "output_type": "stream",
     "text": [
      "[1] \"Original Test RMSE: 9.20961547380112\"\n",
      "[1] \"Original Test R2: 0.66497520566234\"\n"
     ]
    }
   ],
   "source": [
    "# test RMSE and R2 on Original Model\n",
    "test.pred <- predict.lm(lm.fit, newdata=yachtTest[,1:(length(yachtTest)-1)])\n",
    "test.RMSE <- cal.rmse(test.pred, yachtTest$Residuary.Resistance)\n",
    "test.R2 <- cal.r2(test.pred, yachtTest$Residuary.Resistance)\n",
    "print(paste('Original Test RMSE:', as.character(test.RMSE)))\n",
    "print(paste('Original Test R2:', as.character(test.R2)))"
   ]
  },
  {
   "cell_type": "code",
   "execution_count": 125,
   "metadata": {},
   "outputs": [
    {
     "name": "stdout",
     "output_type": "stream",
     "text": [
      "[1] \"Original Test RMSE: 9.20961547380112\"\n",
      "[1] \"Original Test R2: 0.66497520566234\"\n"
     ]
    }
   ],
   "source": [
    "# test RMSE and R2 on bootstrap Model\n",
    "test.pred <- predict(boot.fit, newdata=yachtTest[,1:(length(yachtTest)-1)])\n",
    "test.RMSE <- cal.rmse(test.pred, yachtTest$Residuary.Resistance)\n",
    "test.R2 <- cal.r2(test.pred, yachtTest$Residuary.Resistance)\n",
    "print(paste('Original Test RMSE:', as.character(test.RMSE)))\n",
    "print(paste('Original Test R2:', as.character(test.R2)))"
   ]
  },
  {
   "cell_type": "markdown",
   "metadata": {},
   "source": [
    "The testing RMSE and R2 is the same on the testing data."
   ]
  },
  {
   "cell_type": "markdown",
   "metadata": {},
   "source": [
    "## P4"
   ]
  },
  {
   "cell_type": "code",
   "execution_count": 4,
   "metadata": {},
   "outputs": [],
   "source": [
    "# load German Credit Data sample dataset\n",
    "gcurl <- 'https://archive.ics.uci.edu/ml/machine-learning-databases/statlog/german/german.data-numeric'\n",
    "german <- read.table(gcurl, header = F)\n",
    "german$V25[german$V25==2] = 'Y'\n",
    "german$V25[german$V25==1] = 'N'\n",
    "german$V25 <- factor(german$V25, levels=c('Y','N'))"
   ]
  },
  {
   "cell_type": "code",
   "execution_count": 5,
   "metadata": {},
   "outputs": [],
   "source": [
    "# train test split\n",
    "trainIdx <- createDataPartition(\n",
    "  1:dim(german)[1],\n",
    "  times = 1,\n",
    "  p = 0.8,\n",
    "  list = T)$Resample1\n",
    "germanTrain <- german[trainIdx,]\n",
    "germanTest <- german[-trainIdx,]"
   ]
  },
  {
   "cell_type": "code",
   "execution_count": 6,
   "metadata": {},
   "outputs": [
    {
     "name": "stdout",
     "output_type": "stream",
     "text": [
      "[1] \"Training precision, recall, and F1:\"\n"
     ]
    },
    {
     "data": {
      "text/html": [
       "<dl>\n",
       "\t<dt>$precision</dt>\n",
       "\t\t<dd>0.691489361702128</dd>\n",
       "\t<dt>$recall</dt>\n",
       "\t\t<dd>0.546218487394958</dd>\n",
       "\t<dt>$F1</dt>\n",
       "\t\t<dd>0.610328638497653</dd>\n",
       "</dl>\n"
      ],
      "text/latex": [
       "\\begin{description}\n",
       "\\item[\\$precision] 0.691489361702128\n",
       "\\item[\\$recall] 0.546218487394958\n",
       "\\item[\\$F1] 0.610328638497653\n",
       "\\end{description}\n"
      ],
      "text/markdown": [
       "$precision\n",
       ":   0.691489361702128\n",
       "$recall\n",
       ":   0.546218487394958\n",
       "$F1\n",
       ":   0.610328638497653\n",
       "\n",
       "\n"
      ],
      "text/plain": [
       "$precision\n",
       "[1] 0.6914894\n",
       "\n",
       "$recall\n",
       "[1] 0.5462185\n",
       "\n",
       "$F1\n",
       "[1] 0.6103286\n"
      ]
     },
     "metadata": {},
     "output_type": "display_data"
    }
   ],
   "source": [
    "# fit glm model\n",
    "fit <- glm(V25~., data=germanTrain, family=binomial(link = \"logit\"))\n",
    "# function to compute accuracy\n",
    "cal.acc <- function(actual, pred){\n",
    "    # create confusion matrix\n",
    "    cfmat <- table(actual, pred)\n",
    "    TP <- cfmat[1,1]\n",
    "    FP <- cfmat[2,1]\n",
    "    FN <- cfmat[1,2]\n",
    "    # precision\n",
    "    precision <- TP / (TP+FP)\n",
    "    # recall\n",
    "    recall <- TP / (TP+FN)\n",
    "    # F1\n",
    "    F1 <- (2 * precision * recall) / (precision+recall)\n",
    "    return(list(precision=precision,\n",
    "               recall=recall,\n",
    "               F1=F1))\n",
    "}\n",
    "# compute training accuracy\n",
    "train.pred <- predict(fit, newdata=germanTrain[,1:(length(germanTrain)-1)], type='response')\n",
    "train.pred[train.pred>0.5] = 'N'\n",
    "train.pred[train.pred != 'N'] = 'Y'\n",
    "train.pred <- factor(train.pred, levels=c('Y','N'))\n",
    "print('Training precision, recall, and F1:')\n",
    "cal.acc(germanTrain$V25, train.pred)"
   ]
  },
  {
   "cell_type": "markdown",
   "metadata": {},
   "source": [
    "##### Cross validation accuracy"
   ]
  },
  {
   "cell_type": "code",
   "execution_count": 7,
   "metadata": {},
   "outputs": [
    {
     "name": "stderr",
     "output_type": "stream",
     "text": [
      "Warning message in train.default(x, y, weights = w, ...):\n",
      "“The metric \"Accuracy\" was not in the result set. precision will be used instead.”\n"
     ]
    }
   ],
   "source": [
    "# function to compute accuracy\n",
    "customSummary <- function(data, lev = NULL, model = NULL){\n",
    "  precision <- posPredValue(data$pred, data$obs, positive = \"Y\")\n",
    "  recall  <- sensitivity(data$pred, data$obs, postive = \"Y\")\n",
    "  F1 <- (2 * precision * recall) / (precision + recall)\n",
    "  acc.vec <- c(precision, recall, F1)\n",
    "  names(acc.vec) <- c('precision', 'recall', 'F1')\n",
    "  return(acc.vec)\n",
    "} \n",
    "ctrl <- trainControl(method = \"cv\", number=10, classProbs = TRUE,\n",
    "                     summaryFunction = customSummary)\n",
    "\n",
    "cv.fit <- train(V25~., data=germanTrain,\n",
    "                  method = \"glm\", trControl = ctrl)"
   ]
  },
  {
   "cell_type": "code",
   "execution_count": 8,
   "metadata": {},
   "outputs": [
    {
     "data": {
      "text/html": [
       "<table class=\"dataframe\">\n",
       "<caption>A data.frame: 1 × 3</caption>\n",
       "<thead>\n",
       "\t<tr><th></th><th scope=col>precision</th><th scope=col>recall</th><th scope=col>F1</th></tr>\n",
       "\t<tr><th></th><th scope=col>&lt;dbl&gt;</th><th scope=col>&lt;dbl&gt;</th><th scope=col>&lt;dbl&gt;</th></tr>\n",
       "</thead>\n",
       "<tbody>\n",
       "\t<tr><th scope=row>1</th><td>0.6483247</td><td>0.5255435</td><td>0.575894</td></tr>\n",
       "</tbody>\n",
       "</table>\n"
      ],
      "text/latex": [
       "A data.frame: 1 × 3\n",
       "\\begin{tabular}{r|lll}\n",
       "  & precision & recall & F1\\\\\n",
       "  & <dbl> & <dbl> & <dbl>\\\\\n",
       "\\hline\n",
       "\t1 & 0.6483247 & 0.5255435 & 0.575894\\\\\n",
       "\\end{tabular}\n"
      ],
      "text/markdown": [
       "\n",
       "A data.frame: 1 × 3\n",
       "\n",
       "| <!--/--> | precision &lt;dbl&gt; | recall &lt;dbl&gt; | F1 &lt;dbl&gt; |\n",
       "|---|---|---|---|\n",
       "| 1 | 0.6483247 | 0.5255435 | 0.575894 |\n",
       "\n"
      ],
      "text/plain": [
       "  precision recall    F1      \n",
       "1 0.6483247 0.5255435 0.575894"
      ]
     },
     "metadata": {},
     "output_type": "display_data"
    }
   ],
   "source": [
    "# cross-validation accuracy\n",
    "cv.fit$results[,2:4]"
   ]
  },
  {
   "cell_type": "markdown",
   "metadata": {},
   "source": [
    "The cross-validated training accuracy is lower than that for the original model."
   ]
  },
  {
   "cell_type": "markdown",
   "metadata": {},
   "source": [
    "##### Test Accuracy"
   ]
  },
  {
   "cell_type": "code",
   "execution_count": 9,
   "metadata": {},
   "outputs": [
    {
     "name": "stdout",
     "output_type": "stream",
     "text": [
      "[1] \"Test precision, recall, and F1:\"\n"
     ]
    },
    {
     "data": {
      "text/html": [
       "<dl>\n",
       "\t<dt>$precision</dt>\n",
       "\t\t<dd>0.612244897959184</dd>\n",
       "\t<dt>$recall</dt>\n",
       "\t\t<dd>0.483870967741935</dd>\n",
       "\t<dt>$F1</dt>\n",
       "\t\t<dd>0.540540540540541</dd>\n",
       "</dl>\n"
      ],
      "text/latex": [
       "\\begin{description}\n",
       "\\item[\\$precision] 0.612244897959184\n",
       "\\item[\\$recall] 0.483870967741935\n",
       "\\item[\\$F1] 0.540540540540541\n",
       "\\end{description}\n"
      ],
      "text/markdown": [
       "$precision\n",
       ":   0.612244897959184\n",
       "$recall\n",
       ":   0.483870967741935\n",
       "$F1\n",
       ":   0.540540540540541\n",
       "\n",
       "\n"
      ],
      "text/plain": [
       "$precision\n",
       "[1] 0.6122449\n",
       "\n",
       "$recall\n",
       "[1] 0.483871\n",
       "\n",
       "$F1\n",
       "[1] 0.5405405\n"
      ]
     },
     "metadata": {},
     "output_type": "display_data"
    }
   ],
   "source": [
    "# testing accuracy for original model\n",
    "test.pred <- predict(fit, newdata=germanTest[,1:(length(germanTest)-1)], type='response')\n",
    "test.pred[test.pred>0.5] = 'N'\n",
    "test.pred[test.pred != 'N'] = 'Y'\n",
    "test.pred <- factor(test.pred, levels=c('Y','N'))\n",
    "print('Test precision, recall, and F1:')\n",
    "cal.acc(germanTest$V25, test.pred)"
   ]
  },
  {
   "cell_type": "code",
   "execution_count": 10,
   "metadata": {},
   "outputs": [
    {
     "name": "stdout",
     "output_type": "stream",
     "text": [
      "[1] \"Test precision, recall, and F1:\"\n"
     ]
    },
    {
     "data": {
      "text/html": [
       "<dl>\n",
       "\t<dt>$precision</dt>\n",
       "\t\t<dd>0.612244897959184</dd>\n",
       "\t<dt>$recall</dt>\n",
       "\t\t<dd>0.483870967741935</dd>\n",
       "\t<dt>$F1</dt>\n",
       "\t\t<dd>0.540540540540541</dd>\n",
       "</dl>\n"
      ],
      "text/latex": [
       "\\begin{description}\n",
       "\\item[\\$precision] 0.612244897959184\n",
       "\\item[\\$recall] 0.483870967741935\n",
       "\\item[\\$F1] 0.540540540540541\n",
       "\\end{description}\n"
      ],
      "text/markdown": [
       "$precision\n",
       ":   0.612244897959184\n",
       "$recall\n",
       ":   0.483870967741935\n",
       "$F1\n",
       ":   0.540540540540541\n",
       "\n",
       "\n"
      ],
      "text/plain": [
       "$precision\n",
       "[1] 0.6122449\n",
       "\n",
       "$recall\n",
       "[1] 0.483871\n",
       "\n",
       "$F1\n",
       "[1] 0.5405405\n"
      ]
     },
     "metadata": {},
     "output_type": "display_data"
    }
   ],
   "source": [
    "# testing accuracy for cross-validated model\n",
    "test.pred <- predict(cv.fit, newdata=germanTest[,1:(length(germanTest)-1)])\n",
    "print('Test precision, recall, and F1:')\n",
    "cal.acc(germanTest$V25, test.pred)"
   ]
  },
  {
   "cell_type": "markdown",
   "metadata": {},
   "source": [
    "The test accuracy is the same for both models."
   ]
  }
 ],
 "metadata": {
  "kernelspec": {
   "display_name": "R",
   "language": "R",
   "name": "ir"
  },
  "language_info": {
   "codemirror_mode": "r",
   "file_extension": ".r",
   "mimetype": "text/x-r-source",
   "name": "R",
   "pygments_lexer": "r",
   "version": "4.2.1"
  }
 },
 "nbformat": 4,
 "nbformat_minor": 4
}
