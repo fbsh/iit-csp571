{
 "cells": [
  {
   "cell_type": "markdown",
   "id": "dcb34fc4-4e1f-4071-9cd3-462c398ec9c8",
   "metadata": {},
   "source": [
    "# Chapter 2"
   ]
  },
  {
   "cell_type": "markdown",
   "id": "6898ae1f-003a-4ad9-93ba-6600822fe92b",
   "metadata": {},
   "source": [
    "## q1"
   ]
  },
  {
   "cell_type": "markdown",
   "id": "330ab3f6-139b-4836-a0ca-a0f48e64aefc",
   "metadata": {},
   "source": [
    "a) Better. A flexible method will fit the data closer and with the large sample size, would perform better than an inflexible approach."
   ]
  },
  {
   "cell_type": "markdown",
   "id": "ee487ef1-8b16-422a-8a73-0b22fafa7aa5",
   "metadata": {},
   "source": [
    "b) Worse. A flexible method would overfit the small number of observations."
   ]
  },
  {
   "cell_type": "markdown",
   "id": "d8168889-1841-4ebf-b5e9-21698bf6bcfd",
   "metadata": {},
   "source": [
    "c) Better. With more degrees of freedom, a flexible method would fit better than an inflexible one."
   ]
  },
  {
   "cell_type": "markdown",
   "id": "60452cc8-fc0b-4e48-961c-8b6751fe40fd",
   "metadata": {},
   "source": [
    "d) Worse. A flexible method would fit to the noise in the error terms and increase variance."
   ]
  },
  {
   "cell_type": "markdown",
   "id": "d196813b-6fc8-4774-86fe-26358f829520",
   "metadata": {},
   "source": [
    "## q2"
   ]
  },
  {
   "cell_type": "markdown",
   "id": "9b908983-367b-438d-a347-79629274c8ee",
   "metadata": {},
   "source": [
    "a) Regression and inference with $n=500$ and $p=3$"
   ]
  },
  {
   "cell_type": "markdown",
   "id": "d6760d89-5af4-4279-a298-2ef0c590fe81",
   "metadata": {},
   "source": [
    "b) Classification and prediction with $n=20$ and $p=13$"
   ]
  },
  {
   "cell_type": "markdown",
   "id": "97b3c004-9b5b-4d6c-9502-bbde1bd46417",
   "metadata": {},
   "source": [
    "c) Regression and prediction with $n=52$ and $p=3$"
   ]
  },
  {
   "cell_type": "markdown",
   "id": "4d109a15-3904-4101-81f7-75d7c9797e63",
   "metadata": {},
   "source": [
    "## q4"
   ]
  },
  {
   "cell_type": "markdown",
   "id": "fc3a91b2-6f37-411d-97cd-5b62800df93f",
   "metadata": {},
   "source": [
    "a) \n",
    "1. Classification 1 - Is this TV series/movie/ad campaign going to be successful or not (Response : Success/Failure, Predictors : Money spent, Talent, Running Time, Producer, TV Channel, Air time slot, etc., Goal : Prediction). \n",
    "2. Classification 2 - Should this applicant be admitted into Harvard University or not (Response: Admit/Not admit, Predictors : SAT Scores, GPA, Socio Economic Strata, Income of parents, Essay effectiveness,\n",
    "Potential, etc., Goal : Prediction). \n",
    "3. Classification 3 - Salk Polio vaccine trials - Successful/Not Successful (Response : Did the child get polio or not, Predictors : Age, Geography, General health condition, Control/Test group, etc., Goal : Prediction)."
   ]
  },
  {
   "cell_type": "markdown",
   "id": "82384dfd-0d1b-4eca-857c-1a17476b4c71",
   "metadata": {},
   "source": [
    "b) \n",
    "1. Regression 1 - GDP Growth in European economies (Response : What is the GDP of countries predicted to be by 2050 , Predictors : Population, Per capita income, Education, Average life expectancy, Tax Revenue, Government Spending etc., Goal : Inference). \n",
    "2. Regression 2 - What is the average house sale price in $X X X$ neighborhood over the next 5 years (Response : Average house in $X X X$ neighborhood will sell for $Y$ next year, $Z$ the year after, $T$ after that, etc., Predictors : Proximity to transit, Parks, Schools, Average size of family, Average Income of Family, Crime Rate, Price Flux in surrounding neighborhoods etc., Goal: Inference). \n",
    "3. Regression 3 - Gas mileage that a new car design will result in (Response : With certain parameters being set, $X$ is the mileage we will get out of this car, Predictors: Fuel type, Number of Cylinders, Engine Version, etc., Goal : Inference)."
   ]
  },
  {
   "cell_type": "markdown",
   "id": "4bd1e8cc-e51d-4344-87b3-e2055f18aeca",
   "metadata": {},
   "source": [
    "c) \n",
    "1. Cluster 1 - Division of countries into Developed, Developing and Third World (Response : By 2050, countries in Asia can be split into these following clusters, Predictors : Per Capita Income, Purchasing power parity, Average birth rate, Average number of years of education received, Average Death Rate, Population etc., Goal: Prediction). \n",
    "2. Cluster 2 - Division of average working population into income segments for taxion purposes (Response : This worker falls under this taxation bracket, Predictors : Income, Job Industry, Job Segment, Size of Company, etc., Goal : Prediction). \n",
    "3. Cluster 3 - Cluster new movies being produced into ratings $G / P G / R / P G-13$ etc. (Response : This movie is a R/PG/PG-13, Predictors : Violent content, Sexual language, theme, etc., Goal : Prediction)."
   ]
  },
  {
   "cell_type": "markdown",
   "id": "5f789172-b4a6-409e-b89b-a94bbb845f30",
   "metadata": {},
   "source": [
    "## q6"
   ]
  },
  {
   "cell_type": "markdown",
   "id": "6aaed83d-65bb-489f-a0c0-f802bd4d5a83",
   "metadata": {},
   "source": [
    "A parametric approach reduces the problem of estimating $f$ down to one of estimating a set of parameters because it assumes a form for $f$.\n",
    "A non-parametric approach does not assume a patricular form of $f$ and so requires a very large sample to accurately estimate $f$.\n",
    "The advantages of a parametric approach to regression or classification are the simplifying of modeling $f$ to a few parameters and not as many observations are required compared to a non-parametric approach. The disadvantages of a parametric approach to regression or classification are a potentially inaccurate estimate $f$ if the form of $f$ assumed is wrong or to overfit the observations if more flexible models are used."
   ]
  },
  {
   "cell_type": "markdown",
   "id": "3a1c6a30-94bf-431a-9651-e69bd479873e",
   "metadata": {},
   "source": [
    "## q7"
   ]
  },
  {
   "cell_type": "markdown",
   "id": "f8250e31-42d0-459b-abdb-5906becc5f6e",
   "metadata": {},
   "source": [
    "a) "
   ]
  },
  {
   "cell_type": "markdown",
   "id": "fb304381-29b0-44c0-9dca-66e19fe197e0",
   "metadata": {},
   "source": [
    "$$\n",
    "\\begin{equation}\n",
    "\\begin{array}{|c|c|c|c|c|c|}\n",
    "\\hline \\text { Obs. } & X_{1} & X_{2} & X_{3} & Y & \\text { Distance } \\\\\n",
    "\\hline 1 & 0 & 3 & 0 & \\text { Red } & 3 \\\\\n",
    "2 & 2 & 0 & 0 & \\text { Red } & 2 \\\\\n",
    "3 & 0 & 1 & 3 & \\text { Red } & 3.16 \\\\\n",
    "4 & 0 & 1 & 2 & \\text { Green } & 2.23 \\\\\n",
    "5 & -1 & 0 & 1 & \\text { Green } & 1.41 \\\\\n",
    "6 & 1 & 1 & 1 & \\text { Red } & 1.73 \\\\\n",
    "\\hline\n",
    "\\end{array}\n",
    "\\end{equation}\n",
    "$$"
   ]
  },
  {
   "cell_type": "markdown",
   "id": "a683875d-d066-4068-9121-3bdf9f44f67d",
   "metadata": {},
   "source": [
    "b) "
   ]
  },
  {
   "cell_type": "markdown",
   "id": "13a44034-4f00-488d-a17a-f1b95e984cc2",
   "metadata": {},
   "source": [
    "If $K=1$ then $x_{5} \\in \\mathcal{N}_{0}$ and we have"
   ]
  },
  {
   "cell_type": "markdown",
   "id": "f67c952d-74de-412f-95b3-71bc27184151",
   "metadata": {},
   "source": [
    "$$\n",
    "P\\left(Y=\\operatorname{Red} \\mid X=x_{0}\\right)=\\frac{1}{1} \\sum_{i \\in \\mathcal{N}_{0}} I\\left(y_{i}=\\operatorname{Red}\\right)=I\\left(y_{5}=\\operatorname{Red}\\right)=0\n",
    "$$"
   ]
  },
  {
   "cell_type": "markdown",
   "id": "5a1e567d-ac41-4281-bea1-44e7cfc9d608",
   "metadata": {},
   "source": [
    "and"
   ]
  },
  {
   "cell_type": "markdown",
   "id": "a1c9d01c-06cc-4e4a-a7ab-34256ab2c4e2",
   "metadata": {},
   "source": [
    "$$\n",
    "P\\left(Y=\\text { Green } \\mid X=x_{0}\\right)=\\frac{1}{1} \\sum_{i \\in \\mathcal{N}_{0}} I\\left(y_{i}=\\text { Green }\\right)=I\\left(y_{5}=\\text { Green }\\right)=1 .\n",
    "$$"
   ]
  },
  {
   "cell_type": "markdown",
   "id": "420795fa-2b41-4511-ab84-5ba037bc1161",
   "metadata": {},
   "source": [
    "Our prediction is then Green."
   ]
  },
  {
   "cell_type": "markdown",
   "id": "4bde25e0-bee1-4603-8099-d9502fd31b94",
   "metadata": {},
   "source": [
    "c) "
   ]
  },
  {
   "cell_type": "markdown",
   "id": "faf92eb0-bb66-4e75-bd6e-5fce479fedaa",
   "metadata": {},
   "source": [
    "If $K=3$ then $x_{2}, x_{5}, x_{6} \\in \\mathcal{N}_{0}$ and we have"
   ]
  },
  {
   "cell_type": "markdown",
   "id": "2f3efa0d-308f-4bdf-8bcf-0e30ddee19b0",
   "metadata": {},
   "source": [
    "$$\n",
    "P\\left(Y=\\operatorname{Red} \\mid X=x_{0}\\right)=\\frac{1}{3} \\sum_{i \\in \\mathcal{N}_{0}} I\\left(y_{i}=\\operatorname{Red}\\right)=\\frac{1}{3}(1+0+1)=\\frac{2}{3}\n",
    "$$"
   ]
  },
  {
   "cell_type": "markdown",
   "id": "43990581-af40-4420-bd2c-c923faab396d",
   "metadata": {},
   "source": [
    "and"
   ]
  },
  {
   "cell_type": "markdown",
   "id": "ffa9e597-7166-491d-b8d6-45bf17ef615f",
   "metadata": {},
   "source": [
    "$$\n",
    "P\\left(Y=\\text { Green } \\mid X=x_{0}\\right)=\\frac{1}{3} \\sum_{i \\in \\mathcal{N}_{0}} I\\left(y_{i}=\\text { Green }\\right)=\\frac{1}{3}(0+1+0)=\\frac{1}{3}\n",
    "$$"
   ]
  },
  {
   "cell_type": "markdown",
   "id": "cbf5ce40-f10d-4e60-858a-2cbe99df7063",
   "metadata": {},
   "source": [
    "Our prediction is then Red."
   ]
  },
  {
   "cell_type": "markdown",
   "id": "79c5b8bd-18d6-4cf9-a324-57bbc902babd",
   "metadata": {},
   "source": [
    "d) "
   ]
  },
  {
   "cell_type": "markdown",
   "id": "b82ea978-c711-4d03-8ac3-20d643f08bba",
   "metadata": {},
   "source": [
    "As $K$ becomes larger, the boundary becomes inflexible (linear). So in this case we would expect the best value for $K$ to be small."
   ]
  }
 ],
 "metadata": {
  "kernelspec": {
   "display_name": "Python 3 (ipykernel)",
   "language": "python",
   "name": "python3"
  },
  "language_info": {
   "codemirror_mode": {
    "name": "ipython",
    "version": 3
   },
   "file_extension": ".py",
   "mimetype": "text/x-python",
   "name": "python",
   "nbconvert_exporter": "python",
   "pygments_lexer": "ipython3",
   "version": "3.9.10"
  }
 },
 "nbformat": 4,
 "nbformat_minor": 5
}
