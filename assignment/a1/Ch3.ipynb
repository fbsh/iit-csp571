{
 "cells": [
  {
   "cell_type": "markdown",
   "id": "4604e2ea-7a39-46cb-9827-76884fae0657",
   "metadata": {},
   "source": [
    "# Chapter 3"
   ]
  },
  {
   "cell_type": "markdown",
   "id": "4310fc4e-a88d-4298-9da1-d485bc1aab02",
   "metadata": {},
   "source": [
    "## q1"
   ]
  },
  {
   "cell_type": "markdown",
   "id": "c30bf353-2890-4810-adef-d4b1bb791ddd",
   "metadata": {},
   "source": [
    "The null hypotheses associated with table $3.4$ are that advertising budgets of \"TV\", \"radio\" or \"newspaper\" do not have an effect on sales. More precisely $H_{0}^{(1)}: \\beta_{1}=0, H_{0}^{(2)}: \\beta_{2}=0$ and $H_{0}^{(3)}: \\beta_{3}=0$. The corresponding $p$-values are highly significant for \"TV\" and \"radio\" and not significant for \"newspaper\"; so we reject $H_{0}^{(1)}$ and $H_{0}^{(2)}$ and we do not reject $H_{0}^{(3)}$. We may conclude that newspaper advertising budget do not affect sales."
   ]
  },
  {
   "cell_type": "markdown",
   "id": "8efeab50-43b3-4eea-b77c-703366369e07",
   "metadata": {
    "tags": []
   },
   "source": [
    "## q3"
   ]
  },
  {
   "cell_type": "markdown",
   "id": "648726af-c2a7-4c1d-a699-29feccb935fe",
   "metadata": {},
   "source": [
    "a) The least square line is given by"
   ]
  },
  {
   "cell_type": "markdown",
   "id": "08363da7-26d2-452a-a457-fe14cc528039",
   "metadata": {},
   "source": [
    "$$\n",
    "\\hat{y}=50+20 G P A+0.07 I Q+35 G e n d e r+0.01 G P A \\times I Q-10 G P A \\times \\text { Gender }\n",
    "$$"
   ]
  },
  {
   "cell_type": "markdown",
   "id": "2ad7c33f-61f0-43f7-b984-ed83dbcd5533",
   "metadata": {},
   "source": [
    "which becomes for the males"
   ]
  },
  {
   "cell_type": "markdown",
   "id": "14c1ab4e-ecd1-44ef-88dc-127a3b1e98c6",
   "metadata": {},
   "source": [
    "$$\n",
    "\\hat{y}=50+20 G P A+0.07 I Q+0.01 G P A \\times I Q\n",
    "$$"
   ]
  },
  {
   "cell_type": "markdown",
   "id": "3cb99d73-0890-486e-8453-f7a5dc263509",
   "metadata": {},
   "source": [
    "and for the females"
   ]
  },
  {
   "cell_type": "markdown",
   "id": "df08ca7c-6eb1-4a1a-b99b-5d93d79464e5",
   "metadata": {},
   "source": [
    "$$\n",
    "\\hat{y}=85+10 G P A+0.07 I Q+0.01 G P A \\times I Q\n",
    "$$"
   ]
  },
  {
   "cell_type": "markdown",
   "id": "16eb093b-e99f-4186-ba91-ece135cf6962",
   "metadata": {},
   "source": [
    "So the starting salary for males is higher than for females on average iff $50+20 G P A \\geq 85+10 G P A$ which is equivalent to $G P A \\geq 3.5$. Therefore iii. is the right answer."
   ]
  },
  {
   "cell_type": "markdown",
   "id": "dd70a510-f460-4002-becc-eb4de3cc3c4d",
   "metadata": {},
   "source": [
    "b) It suffices to plug in the given values in the least square line for females given above and we obtain"
   ]
  },
  {
   "cell_type": "markdown",
   "id": "9066bebe-6b6c-4594-a971-e825f3437d7a",
   "metadata": {},
   "source": [
    "$$\n",
    "\\hat{y}=85+40+7.7+4.4=137.1 \n",
    "$$"
   ]
  },
  {
   "cell_type": "markdown",
   "id": "63f8dd27-c888-41f7-baa6-11afa73ed965",
   "metadata": {},
   "source": [
    "which gives us a starting salary of $137100 \\$$."
   ]
  },
  {
   "cell_type": "markdown",
   "id": "c0d1d2c7-5a7b-4640-b32a-73fc2d4facc4",
   "metadata": {},
   "source": [
    "c) False. To verify if the GPA/IQ has an impact on the quality of the model we need to test the hypothesis $H_{0}: \\hat{\\beta}_{4}=0$ and look at the $p$-value associated with the $t$ or the $F$ statistic to draw a conclusion."
   ]
  },
  {
   "cell_type": "markdown",
   "id": "823c5e47-d852-4acf-a01c-20ebfe088fa8",
   "metadata": {},
   "source": [
    "## q4"
   ]
  },
  {
   "cell_type": "markdown",
   "id": "fa48edbe-1b38-43b3-9558-41e4bcd33226",
   "metadata": {},
   "source": [
    "a) Without knowing more details about the training data, it is difficult to know which training $RSS$ is lower between linear or cubic. However, as the true relationship between $X$ and $Y$ is linear, we may expect the least squares line to be close to the true regression line, and consequently the $R S S$ for the linear regression may be lower than for the cubic regression."
   ]
  },
  {
   "cell_type": "markdown",
   "id": "4bb69a6e-ada6-436c-a609-5819d84e6287",
   "metadata": {},
   "source": [
    "b) In this case the test RSS depends upon the test data, so we have not enough information to conclude. However, we may assume that polynomial regression will have a higher test $R S S$ as the overfit from training would have more error than the linear regression."
   ]
  },
  {
   "cell_type": "markdown",
   "id": "220c9b8e-2e32-4b32-8d32-f43fd6aae3b8",
   "metadata": {},
   "source": [
    "c) Polynomial regression has lower train $RSS$ than the linear fit because of higher flexibility: no matter what the underlying true relationshop is the more flexible model will closer follow points and reduce train $RSS$. "
   ]
  },
  {
   "cell_type": "markdown",
   "id": "2a3fb9dc-480b-4d87-9afd-4a03002c3292",
   "metadata": {},
   "source": [
    "d) There is not enough information to tell which test $RSS$ would be lower for either regression given the problem statement is defined as not knowing \"how far it is from linear\". If it is closer to linear than cubic, the linear regression test $RSS$ could be lower than the cubic regression test RSS. Or, if it is closer to cubic than linear, the cubic regression test $R S S$ could be lower than the linear regression test $R S S$. It is dues to bias-variance tradeoff: it is not clear what level of flexibility will fit data better."
   ]
  }
 ],
 "metadata": {
  "kernelspec": {
   "display_name": "R",
   "language": "R",
   "name": "ir"
  },
  "language_info": {
   "codemirror_mode": "r",
   "file_extension": ".r",
   "mimetype": "text/x-r-source",
   "name": "R",
   "pygments_lexer": "r",
   "version": "4.1.2"
  }
 },
 "nbformat": 4,
 "nbformat_minor": 5
}
